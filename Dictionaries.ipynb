{
 "cells": [
  {
   "cell_type": "code",
   "execution_count": 1,
   "id": "45112a24",
   "metadata": {},
   "outputs": [],
   "source": [
    "# Dictionary\n",
    "# --> Indexing\n",
    "# --> Ordered\n",
    "# --> Multiple \n",
    "# --> Mutable\n",
    "# --> Similar to List\n",
    "#--> syntax => d = {<key>:<value>,<key>:<value>,....}\n",
    "#--> we can't use +,*\n",
    "#--> Key must be unique , values can be duplicated.\n",
    "#--> We can use del and pop()"
   ]
  },
  {
   "cell_type": "code",
   "execution_count": 3,
   "id": "2c4a30a5",
   "metadata": {},
   "outputs": [
    {
     "name": "stdout",
     "output_type": "stream",
     "text": [
      "<class 'dict'>\n",
      "3\n"
     ]
    }
   ],
   "source": [
    "d = {'a':'Apple','b':'Ball','c':'Cat'}\n",
    "print(type(d))\n",
    "print(len(d))"
   ]
  },
  {
   "cell_type": "code",
   "execution_count": 4,
   "id": "cdbc082a",
   "metadata": {},
   "outputs": [
    {
     "data": {
      "text/plain": [
       "'Apple'"
      ]
     },
     "execution_count": 4,
     "metadata": {},
     "output_type": "execute_result"
    }
   ],
   "source": [
    "d = {'a':'Apple','b':'Ball','c':'Cat'}\n",
    "d['a']"
   ]
  },
  {
   "cell_type": "code",
   "execution_count": 6,
   "id": "b12548df",
   "metadata": {},
   "outputs": [
    {
     "name": "stdout",
     "output_type": "stream",
     "text": [
      "{'a': 'Apple', 'b': 'Ball', 'c': 'Cat'}\n"
     ]
    }
   ],
   "source": [
    "d = {'a':'Apple','b':'Ball','c':'Cat'}\n",
    "print(d)"
   ]
  },
  {
   "cell_type": "code",
   "execution_count": 7,
   "id": "bfa9de1d",
   "metadata": {},
   "outputs": [
    {
     "data": {
      "text/plain": [
       "{'a': 'ant'}"
      ]
     },
     "execution_count": 7,
     "metadata": {},
     "output_type": "execute_result"
    }
   ],
   "source": [
    "#Always gives only end value.\n",
    "d = {'a':'Apple','a':'ant'}\n",
    "d"
   ]
  },
  {
   "cell_type": "code",
   "execution_count": 8,
   "id": "a2ced71f",
   "metadata": {},
   "outputs": [
    {
     "data": {
      "text/plain": [
       "{'a': 'Apple', 'A': 'ant'}"
      ]
     },
     "execution_count": 8,
     "metadata": {},
     "output_type": "execute_result"
    }
   ],
   "source": [
    "d = {'a':'Apple','A':'ant'}\n",
    "d"
   ]
  },
  {
   "cell_type": "code",
   "execution_count": 9,
   "id": "323f62c1",
   "metadata": {},
   "outputs": [
    {
     "name": "stdout",
     "output_type": "stream",
     "text": [
      "a\n",
      "A\n"
     ]
    }
   ],
   "source": [
    "d = {'a':'Apple','A':'ant'}\n",
    "for i in d:\n",
    "    print(i)"
   ]
  },
  {
   "cell_type": "code",
   "execution_count": 10,
   "id": "5838cb51",
   "metadata": {},
   "outputs": [
    {
     "name": "stdout",
     "output_type": "stream",
     "text": [
      "Apple\n",
      "ant\n"
     ]
    }
   ],
   "source": [
    "d = {'a':'Apple','A':'ant'}\n",
    "for i in d.values():\n",
    "    print(i)"
   ]
  },
  {
   "cell_type": "code",
   "execution_count": 11,
   "id": "7e2c10f5",
   "metadata": {},
   "outputs": [
    {
     "name": "stdout",
     "output_type": "stream",
     "text": [
      "('a', 'Apple')\n",
      "('A', 'ant')\n"
     ]
    }
   ],
   "source": [
    "d = {'a':'Apple','A':'ant'}\n",
    "for i in d.items():                        #returns values in tuple\n",
    "    print(i)"
   ]
  },
  {
   "cell_type": "code",
   "execution_count": 12,
   "id": "7be3d852",
   "metadata": {},
   "outputs": [
    {
     "data": {
      "text/plain": [
       "{'a': 'Apple', 'b': 'Ball'}"
      ]
     },
     "execution_count": 12,
     "metadata": {},
     "output_type": "execute_result"
    }
   ],
   "source": [
    "#Creating the dictionary\n",
    "d = {}\n",
    "d['a']='Apple'\n",
    "d['b'] = 'Ball'\n",
    "d"
   ]
  },
  {
   "cell_type": "code",
   "execution_count": 2,
   "id": "be644f36",
   "metadata": {},
   "outputs": [
    {
     "name": "stdout",
     "output_type": "stream",
     "text": [
      "Enter n = 2\n",
      "Enter name = ert\n",
      "Enter number = 1234\n",
      "Enter name = wert\n",
      "Enter number = 1234567\n",
      "{'ert': 1234, 'wert': 1234567}\n"
     ]
    }
   ],
   "source": [
    "data ={}\n",
    "n=int(input('Enter n = '))\n",
    "for i in range(n):\n",
    "    name = input('Enter name = ')\n",
    "    phone = int(input('Enter number = '))\n",
    "    data[name] = phone\n",
    "print(data)"
   ]
  },
  {
   "cell_type": "code",
   "execution_count": 3,
   "id": "eeefe4ac",
   "metadata": {},
   "outputs": [
    {
     "data": {
      "text/plain": [
       "{'wert': 1234567}"
      ]
     },
     "execution_count": 3,
     "metadata": {},
     "output_type": "execute_result"
    }
   ],
   "source": [
    "d = {'ert': 1234, 'wert': 1234567}\n",
    "del d['ert']\n",
    "d"
   ]
  },
  {
   "cell_type": "code",
   "execution_count": 6,
   "id": "55db0ac6",
   "metadata": {},
   "outputs": [
    {
     "name": "stdout",
     "output_type": "stream",
     "text": [
      "{'wert': 1234567}\n",
      "1234\n"
     ]
    }
   ],
   "source": [
    "d = {'ert': 1234, 'wert': 1234567}\n",
    "p=d.pop('ert')   \n",
    "print(d)\n",
    "print(p)"
   ]
  },
  {
   "cell_type": "code",
   "execution_count": 7,
   "id": "2e473db8",
   "metadata": {},
   "outputs": [
    {
     "data": {
      "text/plain": [
       "{'Ram': [980867543, 9801234576], 'Shyam': [981323445, 98902345]}"
      ]
     },
     "execution_count": 7,
     "metadata": {},
     "output_type": "execute_result"
    }
   ],
   "source": [
    "#List inside dictionary\n",
    "d = {'Ram':[980867543,9801234576],\n",
    "    'Shyam':[981323445,98902345]}\n",
    "d"
   ]
  },
  {
   "cell_type": "code",
   "execution_count": 13,
   "id": "3a2ae2ac",
   "metadata": {},
   "outputs": [
    {
     "data": {
      "text/plain": [
       "{'Ram': [9841745693, 9801234576], 'Shyam': [981323445, 98902345]}"
      ]
     },
     "execution_count": 13,
     "metadata": {},
     "output_type": "execute_result"
    }
   ],
   "source": [
    "d = {'Ram':[980867543,9801234576],\n",
    "    'Shyam':[981323445,98902345]}\n",
    "d['Ram'][0] = 9841745693\n",
    "\n",
    "d"
   ]
  },
  {
   "cell_type": "code",
   "execution_count": 14,
   "id": "d534fa46",
   "metadata": {},
   "outputs": [
    {
     "data": {
      "text/plain": [
       "{'Ram': [980867543, 9801234576, 987654321], 'Shyam': [981323445, 98902345]}"
      ]
     },
     "execution_count": 14,
     "metadata": {},
     "output_type": "execute_result"
    }
   ],
   "source": [
    "d = {'Ram':[980867543,9801234576],\n",
    "    'Shyam':[981323445,98902345]}\n",
    "d['Ram'].append(987654321)\n",
    "d"
   ]
  },
  {
   "cell_type": "code",
   "execution_count": 16,
   "id": "ee6397cd",
   "metadata": {},
   "outputs": [
    {
     "data": {
      "text/plain": [
       "{'Name': ['Ram', 'Shyam', 'Hari'],\n",
       " 'age': [23, 45, 43],\n",
       " 'add': ['Kathmandu', 'Bhaktapur', 'Latipur']}"
      ]
     },
     "execution_count": 16,
     "metadata": {},
     "output_type": "execute_result"
    }
   ],
   "source": [
    "d = {'Name':['Ram','Shyam','Hari'],\n",
    "    'age':[23,45,43],\n",
    "    'add':['Kathmandu','Bhaktapur','Latipur']}\n",
    "d"
   ]
  },
  {
   "cell_type": "code",
   "execution_count": 17,
   "id": "e6ea750c",
   "metadata": {},
   "outputs": [
    {
     "name": "stdout",
     "output_type": "stream",
     "text": [
      "Enter n = 2\n",
      "Enter name = Ram\n",
      "Enter age = 23\n",
      "Enter address = Kathmandu\n",
      "Enter name = Shyam\n",
      "Enter age = 28\n",
      "Enter address = Lalitpur\n",
      "{'name': ['Ram', 'Shyam'], 'age': [23, 28], 'add': ['Kathmandu', 'Lalitpur']}\n"
     ]
    }
   ],
   "source": [
    "data ={'name':[],\n",
    "      'age':[],\n",
    "      'add':[]}\n",
    "n=int(input('Enter n = '))\n",
    "for i in range(n):\n",
    "    name = input('Enter name = ')\n",
    "    age = int(input('Enter age = '))\n",
    "    add = input('Enter address = ')\n",
    "    \n",
    "    data['name'].append(name)\n",
    "    data['age'].append(age)\n",
    "    data['add'].append(add)\n",
    "    \n",
    "print(data)"
   ]
  },
  {
   "cell_type": "code",
   "execution_count": 22,
   "id": "a55cb84f",
   "metadata": {},
   "outputs": [
    {
     "data": {
      "text/plain": [
       "[{'Name': 'Ram', 'Age': 23, 'Add': 'Kathmandu'},\n",
       " {'Name': 'Shyam', 'Age': 28, 'Add': 'Lalitpur'},\n",
       " {'Name': 'Hari', 'Age': 25, 'Add': 'Bhaktapur'}]"
      ]
     },
     "execution_count": 22,
     "metadata": {},
     "output_type": "execute_result"
    }
   ],
   "source": [
    "# Dictionaries inside list\n",
    "data = [{'Name':'Ram','Age':23,'Add':'Kathmandu'},\n",
    "       {'Name':'Shyam','Age':28,'Add':'Lalitpur'},\n",
    "       {'Name':'Hari','Age':25,'Add':'Bhaktapur'}]\n",
    "data"
   ]
  },
  {
   "cell_type": "code",
   "execution_count": 21,
   "id": "257ed387",
   "metadata": {},
   "outputs": [
    {
     "data": {
      "text/plain": [
       "'Ram'"
      ]
     },
     "execution_count": 21,
     "metadata": {},
     "output_type": "execute_result"
    }
   ],
   "source": [
    "data[0]['Name']"
   ]
  },
  {
   "cell_type": "code",
   "execution_count": 25,
   "id": "2320526c",
   "metadata": {},
   "outputs": [
    {
     "data": {
      "text/plain": [
       "[{'Name': 'Gita', 'Age': 23, 'Add': 'Kathmandu'},\n",
       " {'Name': 'Shyam', 'Age': 28, 'Add': 'Lalitpur'},\n",
       " {'Name': 'Hari', 'Age': 25, 'Add': 'Bhaktapur'},\n",
       " [{'Name': 'Sita', 'Age': 23, 'Add': 'Kathmandu'}]]"
      ]
     },
     "execution_count": 25,
     "metadata": {},
     "output_type": "execute_result"
    }
   ],
   "source": [
    "data[0]['Name'] = 'Gita'\n",
    "data.append([{'Name': 'Sita', 'Age': 23, 'Add': 'Kathmandu'}])\n",
    "data"
   ]
  },
  {
   "cell_type": "code",
   "execution_count": 31,
   "id": "3162e59e",
   "metadata": {},
   "outputs": [
    {
     "name": "stdout",
     "output_type": "stream",
     "text": [
      "Enter n= 2\n",
      "Enter name = Ram\n",
      "Enter age = 23\n",
      "Enter address = kathmandu\n",
      "Enter name = Hari\n",
      "Enter age = 24\n",
      "Enter address = Lalitpur\n",
      "[{'name': 'Ram', 'Age': 23, 'Add': 'kathmandu'}, {'name': 'Hari', 'Age': 24, 'Add': 'Lalitpur'}]\n"
     ]
    }
   ],
   "source": [
    "data=[]\n",
    "n=int(input('Enter n= '))\n",
    "for i in range(n):\n",
    "    name = input('Enter name = ')\n",
    "    age = int(input('Enter age = '))\n",
    "    add = input('Enter address = ')\n",
    "    \n",
    "    data.append({'name':name,'Age':age,'Add':add})\n",
    "print(data)"
   ]
  },
  {
   "cell_type": "code",
   "execution_count": 33,
   "id": "4744a8d5",
   "metadata": {},
   "outputs": [
    {
     "data": {
      "text/plain": [
       "'Ram'"
      ]
     },
     "execution_count": 33,
     "metadata": {},
     "output_type": "execute_result"
    }
   ],
   "source": [
    "x=data[0].pop('name')\n",
    "x"
   ]
  },
  {
   "cell_type": "code",
   "execution_count": 3,
   "id": "928df28a",
   "metadata": {},
   "outputs": [],
   "source": [
    "#dict inside dict\n",
    "d={1:{'Name': 'Ram', 'Age': 23, 'Add': 'kathmandu'},\n",
    "   2:{'Name': 'Shyam', 'Age': 22, 'Add': 'Bhaktapur'},\n",
    "   3:{'Name': 'Hari', 'Age': 30, 'Add': 'Lalitpur'}}\n",
    "\n"
   ]
  },
  {
   "cell_type": "code",
   "execution_count": 5,
   "id": "22bbc1bd",
   "metadata": {},
   "outputs": [
    {
     "data": {
      "text/plain": [
       "'Ram'"
      ]
     },
     "execution_count": 5,
     "metadata": {},
     "output_type": "execute_result"
    }
   ],
   "source": [
    "d[1]['Name']"
   ]
  },
  {
   "cell_type": "code",
   "execution_count": 4,
   "id": "7d43b2f4",
   "metadata": {},
   "outputs": [
    {
     "data": {
      "text/plain": [
       "{1: {'Name': 'Ram', 'Age': 23, 'Add': 'kathmandu'},\n",
       " 2: {'Name': 'Shyam', 'Age': 22, 'Add': 'Bhaktapur'}}"
      ]
     },
     "execution_count": 4,
     "metadata": {},
     "output_type": "execute_result"
    }
   ],
   "source": [
    "d={}\n",
    "d[1]={'Name': 'Ram', 'Age': 23, 'Add': 'kathmandu'}\n",
    "d[2]={'Name': 'Shyam', 'Age': 22, 'Add': 'Bhaktapur'}\n",
    "d"
   ]
  },
  {
   "cell_type": "code",
   "execution_count": 5,
   "id": "6be3343d",
   "metadata": {},
   "outputs": [
    {
     "data": {
      "text/plain": [
       "{1: {'Name': 'Hari', 'Age': 30, 'Add': 'Lalitpur'},\n",
       " 2: {'Name': 'Shyam', 'Age': 22, 'Add': 'Bhaktapur'}}"
      ]
     },
     "execution_count": 5,
     "metadata": {},
     "output_type": "execute_result"
    }
   ],
   "source": [
    "d[1] = {'Name': 'Hari', 'Age': 30, 'Add': 'Lalitpur'}    #can be updated easily\n",
    "d"
   ]
  },
  {
   "cell_type": "code",
   "execution_count": 7,
   "id": "ba671a68",
   "metadata": {},
   "outputs": [
    {
     "data": {
      "text/plain": [
       "{2: {'Name': 'Shyam', 'Age': 22, 'Add': 'Bhaktapur'}}"
      ]
     },
     "execution_count": 7,
     "metadata": {},
     "output_type": "execute_result"
    }
   ],
   "source": [
    "del d[1]\n",
    "d"
   ]
  },
  {
   "cell_type": "code",
   "execution_count": 11,
   "id": "2a5fe9aa",
   "metadata": {},
   "outputs": [
    {
     "data": {
      "text/plain": [
       "{1: {'Name': 'Ram', 'Age': 23, 'Add': 'kathmandu'},\n",
       " 2: {'Name': 'Shyam', 'Age': 22, 'Add': {'Bhaktapur', 'Lalitpur'}},\n",
       " 3: {'Name': 'Hari', 'Age': 30, 'Add': 'Lalitpur'}}"
      ]
     },
     "execution_count": 11,
     "metadata": {},
     "output_type": "execute_result"
    }
   ],
   "source": [
    "d={1:{'Name': 'Ram', 'Age': 23, 'Add': 'kathmandu'},\n",
    "   2:{'Name': 'Shyam', 'Age': 22, 'Add': {'Bhaktapur','Lalitpur'}},\n",
    "   3:{'Name': 'Hari', 'Age': 30, 'Add': 'Lalitpur'}}\n",
    "d"
   ]
  },
  {
   "cell_type": "code",
   "execution_count": 8,
   "id": "a7aee84f",
   "metadata": {},
   "outputs": [
    {
     "data": {
      "text/plain": [
       "{('Ram', 'Shyam'): 981234}"
      ]
     },
     "execution_count": 8,
     "metadata": {},
     "output_type": "execute_result"
    }
   ],
   "source": [
    "d={('Ram','Shyam'):981234}   #key can have value of tuple but not list as list is muttable\n",
    "d"
   ]
  },
  {
   "cell_type": "code",
   "execution_count": null,
   "id": "0942c7a5",
   "metadata": {},
   "outputs": [],
   "source": []
  }
 ],
 "metadata": {
  "kernelspec": {
   "display_name": "Python 3 (ipykernel)",
   "language": "python",
   "name": "python3"
  },
  "language_info": {
   "codemirror_mode": {
    "name": "ipython",
    "version": 3
   },
   "file_extension": ".py",
   "mimetype": "text/x-python",
   "name": "python",
   "nbconvert_exporter": "python",
   "pygments_lexer": "ipython3",
   "version": "3.9.13"
  }
 },
 "nbformat": 4,
 "nbformat_minor": 5
}

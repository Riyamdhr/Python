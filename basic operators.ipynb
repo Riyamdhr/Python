{
 "cells": [
  {
   "cell_type": "code",
   "execution_count": 1,
   "id": "ffd6b7cd",
   "metadata": {},
   "outputs": [
    {
     "name": "stdout",
     "output_type": "stream",
     "text": [
      "1\n",
      "1\n",
      "0\n"
     ]
    }
   ],
   "source": [
    "a = True \n",
    "b = False\n",
    "print(a+b)\n",
    "print(a-b)\n",
    "print(a*b)"
   ]
  },
  {
   "cell_type": "code",
   "execution_count": 5,
   "id": "093f19d0",
   "metadata": {},
   "outputs": [
    {
     "data": {
      "text/plain": [
       "10.0"
      ]
     },
     "execution_count": 5,
     "metadata": {},
     "output_type": "execute_result"
    }
   ],
   "source": [
    "a = 10\n",
    "b = 10.5\n",
    "int(b)\n",
    "float(a)\n",
    "# c= int(b)\n",
    "# print(type(c))"
   ]
  },
  {
   "cell_type": "code",
   "execution_count": 1,
   "id": "5386f9aa",
   "metadata": {},
   "outputs": [
    {
     "name": "stdout",
     "output_type": "stream",
     "text": [
      "Enter value a = value can be of any data type\n",
      "value can be of any data type\n"
     ]
    }
   ],
   "source": [
    "a = input(\"Enter value a = \")\n",
    "print(a)"
   ]
  },
  {
   "cell_type": "code",
   "execution_count": 2,
   "id": "485c8037",
   "metadata": {},
   "outputs": [
    {
     "name": "stdout",
     "output_type": "stream",
     "text": [
      "Enter the value2\n",
      "2\n"
     ]
    }
   ],
   "source": [
    "a = int(input(\"Enter the value \"))\n",
    "print(a)\n",
    "#value must be in integer & if float(input())- value must be in float.\n"
   ]
  },
  {
   "cell_type": "code",
   "execution_count": 3,
   "id": "44bbbd99",
   "metadata": {},
   "outputs": [
    {
     "name": "stdout",
     "output_type": "stream",
     "text": [
      "Enter the value 0\n",
      "True\n"
     ]
    }
   ],
   "source": [
    "a = bool(input(\"Enter the value \"))\n",
    "print(a)\n",
    "#bool always gives the vlaue as True which is technically wrong."
   ]
  },
  {
   "cell_type": "code",
   "execution_count": 6,
   "id": "af5eef9a",
   "metadata": {},
   "outputs": [
    {
     "name": "stdout",
     "output_type": "stream",
     "text": [
      "Enter the value of P: 10000\n",
      "Enter the time T: 10.5\n",
      "Enter the value of rate r: 10.4\n",
      "10920\n"
     ]
    }
   ],
   "source": [
    "p = int(input(\"Enter the value of P: \"))\n",
    "t = float(input(\"Enter the time T: \"))\n",
    "r = float(input(\"Enter the value of rate r: \"))\n",
    "i = p*t*r/100\n",
    "print(i)"
   ]
  },
  {
   "cell_type": "code",
   "execution_count": 11,
   "id": "810af96c",
   "metadata": {},
   "outputs": [
    {
     "name": "stdout",
     "output_type": "stream",
     "text": [
      "abc\n",
      "22\n",
      "1234\n",
      "My Name is  abc . My age is  22 . My Phone Number is  1234 .\n"
     ]
    }
   ],
   "source": [
    "name = input()\n",
    "age = int(input())\n",
    "phone = int(input())\n",
    "#print(\"My Name is \" + name + \". My age is \"+str(age) + \". My Phone Number is \" + str(phone) + \".\" )\n",
    "print(\"My Name is \" , name , \". My age is \",age , \". My Phone Number is \" ,phone,\".\" ) #not concadenation , says just to print the value.\n"
   ]
  },
  {
   "cell_type": "code",
   "execution_count": null,
   "id": "95c3a69f",
   "metadata": {},
   "outputs": [],
   "source": []
  }
 ],
 "metadata": {
  "kernelspec": {
   "display_name": "Python 3 (ipykernel)",
   "language": "python",
   "name": "python3"
  },
  "language_info": {
   "codemirror_mode": {
    "name": "ipython",
    "version": 3
   },
   "file_extension": ".py",
   "mimetype": "text/x-python",
   "name": "python",
   "nbconvert_exporter": "python",
   "pygments_lexer": "ipython3",
   "version": "3.9.13"
  }
 },
 "nbformat": 4,
 "nbformat_minor": 5
}

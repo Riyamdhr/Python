{
 "cells": [
  {
   "cell_type": "code",
   "execution_count": 1,
   "id": "30ce022b",
   "metadata": {},
   "outputs": [],
   "source": [
    "#Python Collection\n",
    "#-List\n",
    "#-Tuple\n",
    "#-Dicttionary\n",
    "#-Set"
   ]
  },
  {
   "cell_type": "code",
   "execution_count": 2,
   "id": "8ef086e1",
   "metadata": {},
   "outputs": [],
   "source": [
    "#List\n",
    "# -Multiple and dublicate data\n",
    "# - Indexing\n",
    "# - Ordered\n",
    "# - Mutable\n",
    "\n",
    "#List can be concadicated and enlarged"
   ]
  },
  {
   "cell_type": "code",
   "execution_count": 7,
   "id": "83ad752e",
   "metadata": {},
   "outputs": [
    {
     "name": "stdout",
     "output_type": "stream",
     "text": [
      "<class 'list'>\n",
      "<class 'list'>\n",
      "<class 'list'>\n"
     ]
    }
   ],
   "source": [
    "a=[1,2,3,4,5,6,7]\n",
    "b=['Apple','Ball','Cat','Apple']\n",
    "c= list()\n",
    "print(type(a))\n",
    "print(type(b))\n",
    "print(type(c))\n"
   ]
  },
  {
   "cell_type": "code",
   "execution_count": 8,
   "id": "1e3b9a39",
   "metadata": {},
   "outputs": [
    {
     "name": "stdout",
     "output_type": "stream",
     "text": [
      "[1, 2, 3, 4, 5, 6, 7]\n",
      "['Apple', 'Ball', 'Cat', 'Apple']\n",
      "[]\n"
     ]
    }
   ],
   "source": [
    "#jasari value haru store vako xa tesari nei output deko le ordered  \n",
    "print(a)\n",
    "print(b)\n",
    "print(c)"
   ]
  },
  {
   "cell_type": "code",
   "execution_count": 20,
   "id": "88a6a32c",
   "metadata": {},
   "outputs": [
    {
     "name": "stdout",
     "output_type": "stream",
     "text": [
      "Apple\n",
      "Ball\n",
      "['Apple', 'Cat']\n"
     ]
    }
   ],
   "source": [
    "#Indexing\n",
    "print(b[0])\n",
    "print(b[1])\n",
    "print(b[0:6:2])"
   ]
  },
  {
   "cell_type": "code",
   "execution_count": 19,
   "id": "50b44e23",
   "metadata": {},
   "outputs": [
    {
     "name": "stdout",
     "output_type": "stream",
     "text": [
      "['Apple', 'Ball', 'Cat', 'Apple', 'Dog']\n"
     ]
    }
   ],
   "source": [
    "#Mutable is to add or edit\n",
    "a=['Apple','Ball','Cat','Apple']\n",
    "a.append('Dog')\n",
    "print(a)"
   ]
  },
  {
   "cell_type": "code",
   "execution_count": 22,
   "id": "fc54e132",
   "metadata": {},
   "outputs": [
    {
     "name": "stdout",
     "output_type": "stream",
     "text": [
      "['Apple', 'Ball', 'Cat', 'Apple', 1, 2, 3, 4]\n",
      "['Apple', 'Ball', 'Cat', 'Apple', 'Apple', 'Ball', 'Cat', 'Apple']\n"
     ]
    }
   ],
   "source": [
    "#we can use different operators +,*\n",
    "\n",
    "a=['Apple','Ball','Cat','Apple']\n",
    "b=[1,2,3,4]\n",
    "c=a+b\n",
    "print(c)\n",
    "print(a*2)"
   ]
  },
  {
   "cell_type": "code",
   "execution_count": 4,
   "id": "f7af7d4a",
   "metadata": {},
   "outputs": [
    {
     "name": "stdout",
     "output_type": "stream",
     "text": [
      "Enter the value n= 5\n",
      "Enter x = 4\n",
      "Enter x = 345\n",
      "Enter x = 345\n",
      "Enter x = 345\n",
      "Enter x = 231\n",
      "[4, 345, 345, 345, 231]\n"
     ]
    }
   ],
   "source": [
    "a = []\n",
    "n = int(input(\"Enter the value n= \"))\n",
    "for i in range(n):\n",
    "    x = int(input(\"Enter x = \"))\n",
    "    a = a+[x]\n",
    "    \n",
    "print(a)"
   ]
  },
  {
   "cell_type": "code",
   "execution_count": 10,
   "id": "428e5125",
   "metadata": {},
   "outputs": [
    {
     "name": "stdout",
     "output_type": "stream",
     "text": [
      "the maximum value is  345\n",
      "the manimum value is  4\n",
      "the sum value is  1270\n",
      "the avg value is  254.0\n",
      "[4, 231, 345, 345, 345]\n",
      "[345, 345, 345, 231, 4]\n"
     ]
    }
   ],
   "source": [
    "a=[4, 345, 345, 345, 231]\n",
    "print(\"the maximum value is \",max(a))\n",
    "print(\"the manimum value is \",min(a))\n",
    "print(\"the sum value is \",sum(a))\n",
    "print(\"the avg value is \",sum(a)/len(a))\n",
    "a.sort()\n",
    "print(a)\n",
    "a.reverse()\n",
    "print(a)\n"
   ]
  },
  {
   "cell_type": "code",
   "execution_count": 11,
   "id": "7feff58f",
   "metadata": {},
   "outputs": [],
   "source": [
    "#different functions\n",
    "# append(),insert(),extend() :to input data\n",
    "#append can add only one value. To add multiple value we use extend\n",
    "\n",
    "#del, remove(), pop():to delete data\n"
   ]
  },
  {
   "cell_type": "code",
   "execution_count": 12,
   "id": "bf676981",
   "metadata": {},
   "outputs": [
    {
     "name": "stdout",
     "output_type": "stream",
     "text": [
      "['Apple', 'Ball']\n"
     ]
    }
   ],
   "source": [
    "a=[]\n",
    "a.append('Apple')\n",
    "a.append('Ball')\n",
    "print(a)"
   ]
  },
  {
   "cell_type": "code",
   "execution_count": 16,
   "id": "62b0653b",
   "metadata": {},
   "outputs": [
    {
     "data": {
      "text/plain": [
       "['Apple', 'Ball', 'Fish', 'Cat', 'Dog']"
      ]
     },
     "execution_count": 16,
     "metadata": {},
     "output_type": "execute_result"
    }
   ],
   "source": [
    "a=['Apple','Ball','Cat','Dog']\n",
    "a.insert(2,'Fish')\n",
    "a"
   ]
  },
  {
   "cell_type": "code",
   "execution_count": 19,
   "id": "e27eff81",
   "metadata": {},
   "outputs": [
    {
     "data": {
      "text/plain": [
       "['Apple', 'Ball', 'Cat', 'Dog', 1, 2, 3, 4, 5, 6, 7]"
      ]
     },
     "execution_count": 19,
     "metadata": {},
     "output_type": "execute_result"
    }
   ],
   "source": [
    "a=['Apple','Ball','Cat','Dog']\n",
    "a.extend([1,2,3,4,5,6,7])\n",
    "a"
   ]
  },
  {
   "cell_type": "code",
   "execution_count": 20,
   "id": "2157ca61",
   "metadata": {},
   "outputs": [
    {
     "name": "stdout",
     "output_type": "stream",
     "text": [
      "Apple\n",
      "Ball\n",
      "Cat\n",
      "Dog\n"
     ]
    }
   ],
   "source": [
    "#Reading\n",
    "a=['Apple','Ball','Cat','Dog']\n",
    "for i in a:\n",
    "    print(i)"
   ]
  },
  {
   "cell_type": "code",
   "execution_count": 22,
   "id": "6bf21d43",
   "metadata": {},
   "outputs": [
    {
     "name": "stdout",
     "output_type": "stream",
     "text": [
      "Enter the value n= 3\n",
      "Enter x = 23\n",
      "Enter x = 45\n",
      "Enter x = 34\n",
      "[23, 45, 34]\n"
     ]
    }
   ],
   "source": [
    "a = []\n",
    "n = int(input(\"Enter the value n= \"))\n",
    "for i in range(n):\n",
    "    x = int(input(\"Enter x = \"))\n",
    "    a.append(x)\n",
    "\n",
    "    \n",
    "print(a)"
   ]
  },
  {
   "cell_type": "code",
   "execution_count": 24,
   "id": "91b4f860",
   "metadata": {},
   "outputs": [
    {
     "data": {
      "text/plain": [
       "['apple', 'Ball', 'Cat', 'Dog']"
      ]
     },
     "execution_count": 24,
     "metadata": {},
     "output_type": "execute_result"
    }
   ],
   "source": [
    "#Update the list\n",
    "a=['Apple','Ball','Cat','Dog']\n",
    "a[0] = 'apple'\n",
    "a"
   ]
  },
  {
   "cell_type": "code",
   "execution_count": 26,
   "id": "1f4de8ca",
   "metadata": {},
   "outputs": [
    {
     "data": {
      "text/plain": [
       "['apple', 'ball', 'Cat', 'Dog']"
      ]
     },
     "execution_count": 26,
     "metadata": {},
     "output_type": "execute_result"
    }
   ],
   "source": [
    "#Update the multiple vvalue in list\n",
    "a=['Apple','Ball','Cat','Dog']\n",
    "a[0:2] = ['apple','ball']\n",
    "a"
   ]
  },
  {
   "cell_type": "code",
   "execution_count": 39,
   "id": "85dd6a5f",
   "metadata": {},
   "outputs": [
    {
     "data": {
      "text/plain": [
       "['Cat', 'Dog']"
      ]
     },
     "execution_count": 39,
     "metadata": {},
     "output_type": "execute_result"
    }
   ],
   "source": [
    "# to delete\n",
    "#del\n",
    "a=['Apple','Ball','Cat','Dog']\n",
    "del a[0:2]\n",
    "a\n"
   ]
  },
  {
   "cell_type": "code",
   "execution_count": 38,
   "id": "3d4855f7",
   "metadata": {},
   "outputs": [
    {
     "data": {
      "text/plain": [
       "['Apple', 'Cat', 'Dog']"
      ]
     },
     "execution_count": 38,
     "metadata": {},
     "output_type": "execute_result"
    }
   ],
   "source": [
    "#remove\n",
    "a=['Apple','Ball','Cat','Dog']\n",
    "a.remove('Ball')\n",
    "a"
   ]
  },
  {
   "cell_type": "code",
   "execution_count": 45,
   "id": "2722cd85",
   "metadata": {},
   "outputs": [
    {
     "name": "stdout",
     "output_type": "stream",
     "text": [
      "2\n",
      "['Ball', 'Cat', 'Dog']\n"
     ]
    }
   ],
   "source": [
    "\n",
    "a=['Apple','Ball','Cat','Dog','Apple']\n",
    "c=a.count('Apple')\n",
    "print(c)\n",
    "for i in range(c):\n",
    "    a.remove('Apple')\n",
    "print(a)"
   ]
  },
  {
   "cell_type": "code",
   "execution_count": 49,
   "id": "49e4f024",
   "metadata": {},
   "outputs": [
    {
     "name": "stdout",
     "output_type": "stream",
     "text": [
      "['Ball', 'Cat', 'Dog', 'Apple']\n",
      "Apple\n"
     ]
    }
   ],
   "source": [
    "#pop()\n",
    "a = ['Apple','Ball','Cat','Dog','Apple']\n",
    "b = a.pop(0)\n",
    "print(a)\n",
    "print(b)\n"
   ]
  },
  {
   "cell_type": "code",
   "execution_count": 50,
   "id": "ea0424af",
   "metadata": {},
   "outputs": [
    {
     "data": {
      "text/plain": [
       "1"
      ]
     },
     "execution_count": 50,
     "metadata": {},
     "output_type": "execute_result"
    }
   ],
   "source": [
    "a=['Apple','Ball','Cat','Dog','Apple']\n",
    "a.index('Ball')"
   ]
  },
  {
   "cell_type": "code",
   "execution_count": 51,
   "id": "13cc94fd",
   "metadata": {},
   "outputs": [
    {
     "data": {
      "text/plain": [
       "0"
      ]
     },
     "execution_count": 51,
     "metadata": {},
     "output_type": "execute_result"
    }
   ],
   "source": [
    "a=['Apple','Ball','Cat','Dog','Apple']\n",
    "a.index('Apple')"
   ]
  },
  {
   "cell_type": "code",
   "execution_count": 52,
   "id": "2357670a",
   "metadata": {},
   "outputs": [
    {
     "name": "stdout",
     "output_type": "stream",
     "text": [
      "0\n",
      "4\n"
     ]
    }
   ],
   "source": [
    "a=['Apple','Ball','Cat','Dog','Apple']\n",
    "l = len(a)\n",
    "for i in range(l):\n",
    "    if a[i]=='Apple':\n",
    "        print(i)"
   ]
  },
  {
   "cell_type": "code",
   "execution_count": 26,
   "id": "0c7d7d51",
   "metadata": {},
   "outputs": [
    {
     "name": "stdout",
     "output_type": "stream",
     "text": [
      "Apple\n",
      "Ball\n",
      "Cat\n",
      "Dog\n",
      "Apple\n"
     ]
    }
   ],
   "source": [
    "a=['Apple','Ball','Cat','Dog','Apple']\n",
    "l = len(a)\n",
    "i=0\n",
    "while i<l:\n",
    "    print(a[i])\n",
    "    i+=1"
   ]
  },
  {
   "cell_type": "code",
   "execution_count": 27,
   "id": "ba70c47d",
   "metadata": {},
   "outputs": [
    {
     "name": "stdout",
     "output_type": "stream",
     "text": [
      "yes\n",
      "2\n"
     ]
    }
   ],
   "source": [
    "a=['Ram','Shyam','Hari','Ram','Shyam']\n",
    "if 'Ram' in a:\n",
    "    print('yes')\n",
    "    print(a.count('Ram'))"
   ]
  },
  {
   "cell_type": "code",
   "execution_count": 3,
   "id": "dc34fb03",
   "metadata": {},
   "outputs": [
    {
     "name": "stdout",
     "output_type": "stream",
     "text": [
      "<class 'list'>\n",
      "3\n"
     ]
    }
   ],
   "source": [
    "#lIST INSIDE LIST\n",
    "#Multi dimension array\n",
    "a=[[1,2,3],\n",
    "  [4,5,6],\n",
    "  [7,8,9]]\n",
    "print(type(a))\n",
    "print(len(a))"
   ]
  },
  {
   "cell_type": "code",
   "execution_count": 6,
   "id": "6a730496",
   "metadata": {},
   "outputs": [
    {
     "name": "stdout",
     "output_type": "stream",
     "text": [
      "[[1, 2, 3], [4, 5, 6], [7, 8, 9]]\n",
      "[1, 2, 3]\n",
      "2\n"
     ]
    }
   ],
   "source": [
    "print(a)\n",
    "print(a[0])\n",
    "print(a[0][1])"
   ]
  },
  {
   "cell_type": "code",
   "execution_count": 1,
   "id": "bea4cbf8",
   "metadata": {},
   "outputs": [],
   "source": [
    "a=[['ram',23,'kathmandu'],\n",
    "   ['shyam',24,'lalitpur'],\n",
    "   ['Hari',22,'bhaktapur']]\n"
   ]
  },
  {
   "cell_type": "code",
   "execution_count": 3,
   "id": "52e5cf8e",
   "metadata": {},
   "outputs": [
    {
     "name": "stdout",
     "output_type": "stream",
     "text": [
      "Enter n = 3\n",
      "Enter name = abc\n",
      "Enter age = 33\n",
      "Enter address = rty\n",
      "Enter name = asd\n",
      "Enter age = 23\n",
      "Enter address = ert\n",
      "Enter name = fgh\n",
      "Enter age = 2\n",
      "Enter address = dfg\n",
      "[['abc', 33, 'rty'], ['asd', 23, 'ert'], ['fgh', 2, 'dfg']]\n"
     ]
    }
   ],
   "source": [
    "data=[]\n",
    "n=int(input('Enter n = '))\n",
    "for i in range(n):\n",
    "    name = input('Enter name = ')\n",
    "    age = int(input('Enter age = '))\n",
    "    add = input('Enter address = ')\n",
    "    data.append([name,age,add])\n",
    "print(data)"
   ]
  },
  {
   "cell_type": "code",
   "execution_count": 8,
   "id": "1d72bdee",
   "metadata": {},
   "outputs": [
    {
     "name": "stdout",
     "output_type": "stream",
     "text": [
      "[['ram', 23, 'kathmandu'], ['asd', 23, 'ert'], ['Shyam', 2, 'dfg']]\n",
      "ram\n"
     ]
    }
   ],
   "source": [
    "data[0]=['ram',23,'kathmandu']\n",
    "data[2][0] = 'Shyam'\n",
    "print(data)\n",
    "print(a[0][0])"
   ]
  },
  {
   "cell_type": "code",
   "execution_count": 11,
   "id": "b4dc3b32",
   "metadata": {},
   "outputs": [
    {
     "name": "stdout",
     "output_type": "stream",
     "text": [
      "[['ram', 23, 'kathmandu'], ['Hari', 22, 'bhaktapur'], ['shyam', 24, 'lalitpur'], ['Hari', 22, 'bhaktapur']]\n"
     ]
    }
   ],
   "source": [
    "a=[['ram',23,'kathmandu'],\n",
    "   ['shyam',24,'lalitpur'],\n",
    "   ['Hari',22,'bhaktapur']]\n",
    "a.insert(1,['Hari',22,'bhaktapur'])\n",
    "print(a)"
   ]
  },
  {
   "cell_type": "code",
   "execution_count": 14,
   "id": "24724ec6",
   "metadata": {},
   "outputs": [
    {
     "name": "stdout",
     "output_type": "stream",
     "text": [
      "[['ram', 23, 98415367, 'kathmandu'], ['shyam', 24, 'lalitpur'], ['Hari', 22, 'bhaktapur']]\n"
     ]
    }
   ],
   "source": [
    "a=[['ram',23,'kathmandu'],\n",
    "   ['shyam',24,'lalitpur'],\n",
    "   ['Hari',22,'bhaktapur']]\n",
    "a[0].insert(2,98415367)\n",
    "print(a)"
   ]
  },
  {
   "cell_type": "code",
   "execution_count": 15,
   "id": "e790baba",
   "metadata": {},
   "outputs": [
    {
     "name": "stdout",
     "output_type": "stream",
     "text": [
      "[['ram', 23, 'kathmandu'], ['shyam', 24, 'lalitpur'], ['Hari', 22, 'bhaktapur']]\n"
     ]
    }
   ],
   "source": [
    "del a[0][2]\n",
    "print(a)"
   ]
  },
  {
   "cell_type": "code",
   "execution_count": 25,
   "id": "170c050d",
   "metadata": {},
   "outputs": [
    {
     "name": "stdout",
     "output_type": "stream",
     "text": [
      "[['shyam', 24, 'lalitpur']]\n",
      "['ram', 23, 'kathmandu']\n"
     ]
    }
   ],
   "source": [
    "#pop() is used to put the value in another variable \n",
    "a=[['ram',23,'kathmandu'],\n",
    "   ['shyam',24,'lalitpur']]\n",
    "x = a.pop(0)\n",
    "print(a)\n",
    "print(x)"
   ]
  },
  {
   "cell_type": "code",
   "execution_count": 38,
   "id": "d32a31ac",
   "metadata": {},
   "outputs": [
    {
     "name": "stdout",
     "output_type": "stream",
     "text": [
      "Enter name = ram\n",
      "there no name =  ram\n"
     ]
    }
   ],
   "source": [
    "#search\n",
    "a=[['Ram',23,'kathmandu'],\n",
    "   ['shyam',24,'lalitpur'],\n",
    "   ['Hari',22,'bhaktapur']]\n",
    "name = input('Enter name = ')\n",
    "for i in a:\n",
    "    if name in i:\n",
    "        print(i)\n",
    "\n"
   ]
  },
  {
   "cell_type": "code",
   "execution_count": 41,
   "id": "86ec90d6",
   "metadata": {},
   "outputs": [
    {
     "name": "stdout",
     "output_type": "stream",
     "text": [
      "Enter name = ram\n",
      "['Ram', 23, 'kathmandu']\n",
      "['Ram', 22, 'bhaktapur']\n",
      "2 record found\n"
     ]
    }
   ],
   "source": [
    "c=0\n",
    "a=[['Ram',23,'kathmandu'],\n",
    "   ['shyam',24,'lalitpur'],\n",
    "   ['Ram',22,'bhaktapur']]\n",
    "name = input('Enter name = ').lower()\n",
    "for i in a:\n",
    "    if name == i[0].lower():\n",
    "        print(i)\n",
    "        c=c+1\n",
    "if c==0:\n",
    "    print('No Result Found')\n",
    "else:\n",
    "    print(c,'record found')"
   ]
  },
  {
   "cell_type": "code",
   "execution_count": null,
   "id": "33bafa9f",
   "metadata": {},
   "outputs": [],
   "source": []
  }
 ],
 "metadata": {
  "kernelspec": {
   "display_name": "Python 3 (ipykernel)",
   "language": "python",
   "name": "python3"
  },
  "language_info": {
   "codemirror_mode": {
    "name": "ipython",
    "version": 3
   },
   "file_extension": ".py",
   "mimetype": "text/x-python",
   "name": "python",
   "nbconvert_exporter": "python",
   "pygments_lexer": "ipython3",
   "version": "3.9.13"
  }
 },
 "nbformat": 4,
 "nbformat_minor": 5
}

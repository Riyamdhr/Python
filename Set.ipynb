{
 "cells": [
  {
   "cell_type": "code",
   "execution_count": 1,
   "id": "3cc79050",
   "metadata": {},
   "outputs": [],
   "source": [
    "#   Set\n",
    "# --> No Indexing\n",
    "# --> Unordered\n",
    "# --> Multiple data but no dublicate data\n",
    "# --> Mutable\n",
    "# --> not offend used like dictionary and list but when there is dublication problem then set can be used\n",
    "\n"
   ]
  },
  {
   "cell_type": "code",
   "execution_count": null,
   "id": "35960c7a",
   "metadata": {},
   "outputs": [],
   "source": [
    "functions for set\n",
    "--> issubset()\n",
    "--> issuperset()\n",
    "--> isdisjointset()"
   ]
  },
  {
   "cell_type": "code",
   "execution_count": 2,
   "id": "ed1349f5",
   "metadata": {},
   "outputs": [
    {
     "name": "stdout",
     "output_type": "stream",
     "text": [
      "<class 'set'>\n",
      "{1, 2, 3, 4, 5, 6}\n"
     ]
    }
   ],
   "source": [
    "s={1,2,3,4,5,6}\n",
    "print(type(s))\n",
    "print(s)"
   ]
  },
  {
   "cell_type": "code",
   "execution_count": 6,
   "id": "f0504e36",
   "metadata": {},
   "outputs": [
    {
     "name": "stdout",
     "output_type": "stream",
     "text": [
      "<class 'dict'>\n"
     ]
    }
   ],
   "source": [
    "s={}\n",
    "print(type(s))"
   ]
  },
  {
   "cell_type": "code",
   "execution_count": 7,
   "id": "135050e2",
   "metadata": {},
   "outputs": [
    {
     "name": "stdout",
     "output_type": "stream",
     "text": [
      "<class 'set'>\n"
     ]
    }
   ],
   "source": [
    "s={1}\n",
    "print(type(s))"
   ]
  },
  {
   "cell_type": "code",
   "execution_count": 5,
   "id": "e24a98a2",
   "metadata": {},
   "outputs": [
    {
     "name": "stdout",
     "output_type": "stream",
     "text": [
      "{'Cat', 'Dog', 'Ball', 'Apple'}\n"
     ]
    }
   ],
   "source": [
    "s={'Apple','Ball','Cat','Dog'}    #Unordered\n",
    "print(s)"
   ]
  },
  {
   "cell_type": "code",
   "execution_count": 9,
   "id": "f1fe9a2a",
   "metadata": {},
   "outputs": [
    {
     "name": "stdout",
     "output_type": "stream",
     "text": [
      "{1, 2, 3, 4, 5, 6, 7, 8, 9}\n"
     ]
    }
   ],
   "source": [
    "a={1,2,3,8,6,5,4,7,8,3,9,1}\n",
    "print(a)"
   ]
  },
  {
   "cell_type": "code",
   "execution_count": 11,
   "id": "8f4e1653",
   "metadata": {},
   "outputs": [
    {
     "name": "stdout",
     "output_type": "stream",
     "text": [
      "{'Cat', 'Ball', 'Apple'}\n"
     ]
    }
   ],
   "source": [
    "s =  set() \n",
    "s.add('Apple')\n",
    "s.add('Ball')\n",
    "s.add('Cat')\n",
    "print(s)"
   ]
  },
  {
   "cell_type": "code",
   "execution_count": 12,
   "id": "fc7ef13d",
   "metadata": {},
   "outputs": [
    {
     "data": {
      "text/plain": [
       "{'Apple', 'Cat'}"
      ]
     },
     "execution_count": 12,
     "metadata": {},
     "output_type": "execute_result"
    }
   ],
   "source": [
    "a={'Cat', 'Ball', 'Apple'}\n",
    "a.remove('Ball')\n",
    "a"
   ]
  },
  {
   "cell_type": "code",
   "execution_count": 13,
   "id": "d5f59358",
   "metadata": {},
   "outputs": [
    {
     "data": {
      "text/plain": [
       "[1, 2, 3, 4, 5, 6, 7, 8]"
      ]
     },
     "execution_count": 13,
     "metadata": {},
     "output_type": "execute_result"
    }
   ],
   "source": [
    "#removing dublication in list\n",
    "a=[1,2,3,5,6,7,8,7,6,5,4,3,4,5,6,7]\n",
    "list(set(a))"
   ]
  },
  {
   "cell_type": "code",
   "execution_count": 18,
   "id": "c9c6c88b",
   "metadata": {},
   "outputs": [
    {
     "name": "stdout",
     "output_type": "stream",
     "text": [
      "{'Shyam', 'Smith'}\n",
      "2\n"
     ]
    }
   ],
   "source": [
    "apple = {'Ram','Shyam','John','Smith','Kate'}\n",
    "ms = {'Shyam','Smith','Jony','Rakesh','Ramesh'}\n",
    "print(apple.intersection(ms))\n",
    "print(len(apple.intersection(ms)))"
   ]
  },
  {
   "cell_type": "code",
   "execution_count": 17,
   "id": "00b18094",
   "metadata": {},
   "outputs": [
    {
     "name": "stdout",
     "output_type": "stream",
     "text": [
      "{'Kate', 'Shyam', 'Ramesh', 'John', 'Jony', 'Ram', 'Smith', 'Rakesh'}\n",
      "8\n"
     ]
    }
   ],
   "source": [
    "print(apple.union(ms))\n",
    "print(len(apple.union(ms)))"
   ]
  },
  {
   "cell_type": "code",
   "execution_count": 22,
   "id": "de4ed77f",
   "metadata": {},
   "outputs": [
    {
     "name": "stdout",
     "output_type": "stream",
     "text": [
      "{'John', 'Kate', 'Ram'}\n"
     ]
    }
   ],
   "source": [
    "#only apple\n",
    "print(apple-ms)"
   ]
  },
  {
   "cell_type": "code",
   "execution_count": 23,
   "id": "0be71b5f",
   "metadata": {},
   "outputs": [
    {
     "name": "stdout",
     "output_type": "stream",
     "text": [
      "{'Shyam', 'Smith'}\n"
     ]
    }
   ],
   "source": [
    "apple = {'Ram','Shyam','John','Smith','Kate'}\n",
    "ms = {'Shyam','Smith','Jony','Rakesh','Ramesh'}\n",
    "sam = {'Shyam','Smith','John','Ken','Prakriti'}\n",
    "\n",
    "print(apple.intersection(ms,sam))"
   ]
  },
  {
   "cell_type": "code",
   "execution_count": 24,
   "id": "70cae801",
   "metadata": {},
   "outputs": [
    {
     "name": "stdout",
     "output_type": "stream",
     "text": [
      "{'Prakriti', 'Kate', 'Shyam', 'Ramesh', 'Ken', 'John', 'Jony', 'Ram', 'Smith', 'Rakesh'}\n"
     ]
    }
   ],
   "source": [
    "print(apple.union(ms,sam))"
   ]
  },
  {
   "cell_type": "code",
   "execution_count": 25,
   "id": "a039844d",
   "metadata": {},
   "outputs": [
    {
     "data": {
      "text/plain": [
       "set()"
      ]
     },
     "execution_count": 25,
     "metadata": {},
     "output_type": "execute_result"
    }
   ],
   "source": [
    "sam.intersection(ms) -  apple"
   ]
  },
  {
   "cell_type": "code",
   "execution_count": 26,
   "id": "81eba5c5",
   "metadata": {},
   "outputs": [
    {
     "data": {
      "text/plain": [
       "{'Ken', 'Prakriti'}"
      ]
     },
     "execution_count": 26,
     "metadata": {},
     "output_type": "execute_result"
    }
   ],
   "source": [
    "U = {'Ram','Shyam','John','Smith','Kate','Jony','Rakesh','Ramesh','Ken','Prakriti'}\n",
    "apple = {'Ram','Shyam','John','Smith','Kate'}\n",
    "ms = {'Shyam','Smith','Jony','Rakesh','Ramesh'}\n",
    "U - apple.union(ms)"
   ]
  },
  {
   "cell_type": "code",
   "execution_count": 30,
   "id": "e06349ab",
   "metadata": {},
   "outputs": [
    {
     "name": "stdout",
     "output_type": "stream",
     "text": [
      "25.0\n"
     ]
    }
   ],
   "source": [
    "job = {'Python','CSS','HTML','Data Science'}\n",
    "cv = {'Python','PHP','Java'}\n",
    "ljob = len(job)\n",
    "li = len(job.intersection(cv))\n",
    "prob =(li/ljob)*100\n",
    "print(prob)"
   ]
  },
  {
   "cell_type": "code",
   "execution_count": null,
   "id": "f881f6f8",
   "metadata": {},
   "outputs": [],
   "source": [
    "# s={[1,2,3],{3,4,5,6}} ==> list and dictionary cant be inside set as they are mutable even set cant be inside set\n",
    "# but tuple can be inside set\n",
    "\n"
   ]
  }
 ],
 "metadata": {
  "kernelspec": {
   "display_name": "Python 3 (ipykernel)",
   "language": "python",
   "name": "python3"
  },
  "language_info": {
   "codemirror_mode": {
    "name": "ipython",
    "version": 3
   },
   "file_extension": ".py",
   "mimetype": "text/x-python",
   "name": "python",
   "nbconvert_exporter": "python",
   "pygments_lexer": "ipython3",
   "version": "3.9.13"
  }
 },
 "nbformat": 4,
 "nbformat_minor": 5
}

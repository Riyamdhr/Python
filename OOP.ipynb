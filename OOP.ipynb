{
 "cells": [
  {
   "cell_type": "code",
   "execution_count": 1,
   "id": "82893329",
   "metadata": {},
   "outputs": [],
   "source": [
    "# class Python:                    #class\n",
    "#     <methods>\n",
    "    \n",
    "    \n",
    "# obj =  Python()                  #object\n"
   ]
  },
  {
   "cell_type": "code",
   "execution_count": 5,
   "id": "1dfedaf9",
   "metadata": {},
   "outputs": [
    {
     "name": "stdout",
     "output_type": "stream",
     "text": [
      "Hello World\n"
     ]
    }
   ],
   "source": [
    "class Hello:\n",
    "    def hello(self):           #self parameter :self is constructor\n",
    "        print('Hello World')\n",
    "        \n",
    "obj = Hello()\n",
    "obj.hello()"
   ]
  },
  {
   "cell_type": "code",
   "execution_count": 6,
   "id": "9840eda8",
   "metadata": {},
   "outputs": [
    {
     "name": "stdout",
     "output_type": "stream",
     "text": [
      "Hello World\n"
     ]
    }
   ],
   "source": [
    "class Hello:\n",
    "    @staticmethod            #doesn't depend on class method\n",
    "    def hello():\n",
    "        print('Hello World')\n",
    "        \n",
    "obj = Hello()\n",
    "obj.hello()"
   ]
  },
  {
   "cell_type": "code",
   "execution_count": 11,
   "id": "d8ec8a91",
   "metadata": {},
   "outputs": [
    {
     "name": "stdout",
     "output_type": "stream",
     "text": [
      "Enter length = 2\n",
      "Enter Breath = 23\n",
      "Enter height = 3\n",
      "46\n",
      "138\n",
      "2 23 3\n"
     ]
    }
   ],
   "source": [
    "class Cal:\n",
    "    def __init__(self,l,b,h):          #init--> initialize function \n",
    "        self.len = l\n",
    "        self.bre = b\n",
    "        self.h = h\n",
    "        \n",
    "    def area(self):\n",
    "        a = self.len*self.bre\n",
    "        print(a)\n",
    "        \n",
    "    def volume(self):\n",
    "        v = self.len*self.bre*self.h\n",
    "        print(v)\n",
    "\n",
    "l = int(input('Enter length = '))\n",
    "b = int(input('Enter Breath = '))\n",
    "h = int(input('Enter height = '))\n",
    "obj = Cal(l,b,h)\n",
    "obj.area()\n",
    "obj.volume()\n",
    "print(obj.len,obj.bre,obj.h)"
   ]
  },
  {
   "cell_type": "code",
   "execution_count": 14,
   "id": "ad4245b8",
   "metadata": {},
   "outputs": [
    {
     "name": "stdout",
     "output_type": "stream",
     "text": [
      "Enter length = 2\n",
      "Enter Breath = 2\n",
      "Enter height = 3\n",
      "4\n",
      "12\n"
     ]
    }
   ],
   "source": [
    "class area:\n",
    "    def __init__(self,l,b):          #init--> initialize function \n",
    "        self.len = l\n",
    "        self.bre = b\n",
    "    def area(self):\n",
    "        a = self.len*self.bre\n",
    "        print(a)\n",
    "class Volume:\n",
    "    def __init__(self,l,b,h):          #init--> initialize function \n",
    "        self.len = l\n",
    "        self.bre = b\n",
    "        self.h = h\n",
    "    def volume(self):\n",
    "        v = self.len*self.bre*self.h\n",
    "        print(v)\n",
    "        \n",
    "l = int(input('Enter length = '))\n",
    "b = int(input('Enter Breath = '))\n",
    "h = int(input('Enter height = '))\n",
    "obj1 = area(l,b)\n",
    "obj2 = Volume(l,b,h)\n",
    "obj1.area()\n",
    "obj2.volume()\n"
   ]
  },
  {
   "cell_type": "code",
   "execution_count": null,
   "id": "bd358f71",
   "metadata": {},
   "outputs": [],
   "source": [
    "info=str()\n",
    "n = int(input('Enter n= '))\n",
    "for i in range(n):\n",
    "    name=input('Enter product name= ')\n",
    "    price = int(input('Enter price= '))\n",
    "    quantity = int(input('Enter quantity= '))\n",
    "    total = price*quantity\n",
    "    info = info+ f\"{name} {price} {quantity} {total}\\n\"\n",
    "\n",
    "print(info)\n",
    "with open('data.txt','w') as file:\n",
    "    file.write(info)"
   ]
  },
  {
   "cell_type": "code",
   "execution_count": 1,
   "id": "27aa07a5",
   "metadata": {},
   "outputs": [
    {
     "name": "stdout",
     "output_type": "stream",
     "text": [
      "Enter n = 2\n",
      "Enter product name= abc\n",
      "Enter price= 100\n",
      "Enter quantity= 2\n",
      "Enter product name= asd\n",
      "Enter price= 200\n",
      "Enter quantity= 2\n",
      "600\n",
      "abc 100 2 200\n",
      "asd 200 2 400\n",
      "\n"
     ]
    }
   ],
   "source": [
    "grand_total = 0\n",
    "bill = str()\n",
    "class File:\n",
    "    def __init__(self,name,price,quantity):\n",
    "        self.info = str()\n",
    "        self.name = name\n",
    "        self.price = price\n",
    "        self.quantity = quantity\n",
    "        \n",
    "    def billing(self):\n",
    "        global grand_total,bill\n",
    "        total = self.price*self.quantity\n",
    "        info = self.info+ f\"{self.name} {self.price} {self.quantity} {total}\\n\"\n",
    "        bill = bill+info\n",
    "        grand_total = total + grand_total\n",
    "        \n",
    "    \n",
    "    \n",
    "n = int(input('Enter n = '))\n",
    "for i in range(n):\n",
    "    name=input('Enter product name= ')\n",
    "    price = int(input('Enter price= '))\n",
    "    quantity = int(input('Enter quantity= '))\n",
    "    obj = File(name,price,quantity)\n",
    "    obj.billing()\n",
    "print(grand_total)\n",
    "print(bill)\n",
    "    \n",
    "\n",
    "        "
   ]
  },
  {
   "cell_type": "code",
   "execution_count": 1,
   "id": "63ba19b7",
   "metadata": {},
   "outputs": [],
   "source": [
    "# #__str__ method\n",
    "# --> returns string representation\n"
   ]
  },
  {
   "cell_type": "code",
   "execution_count": 4,
   "id": "e5945392",
   "metadata": {},
   "outputs": [
    {
     "name": "stdout",
     "output_type": "stream",
     "text": [
      "Ram\n",
      "<class '__main__.Info'>\n",
      "Ram\n"
     ]
    }
   ],
   "source": [
    "class Info:\n",
    "    def __init__(self):\n",
    "        self.name = 'Ram'\n",
    "        self.age = '26'\n",
    "        self.add = 'Kathmandu'\n",
    "        \n",
    "    def __str__(self):\n",
    "        return self.name\n",
    "    \n",
    "obj = Info()\n",
    "print(obj)\n",
    "print(type(obj))\n",
    "print(obj.__str__())"
   ]
  },
  {
   "cell_type": "code",
   "execution_count": 5,
   "id": "12bf21b7",
   "metadata": {},
   "outputs": [],
   "source": [
    "# <class '__main__.Info'>\n",
    "# this is not string but an object.\n",
    "# in above condition ram is an object."
   ]
  },
  {
   "cell_type": "code",
   "execution_count": 8,
   "id": "5d30a6e3",
   "metadata": {},
   "outputs": [
    {
     "ename": "TypeError",
     "evalue": "unsupported operand type(s) for +: 'Info' and 'str'",
     "output_type": "error",
     "traceback": [
      "\u001b[1;31m---------------------------------------------------------------------------\u001b[0m",
      "\u001b[1;31mTypeError\u001b[0m                                 Traceback (most recent call last)",
      "\u001b[1;32m~\\AppData\\Local\\Temp\\ipykernel_10004\\2229567206.py\u001b[0m in \u001b[0;36m<module>\u001b[1;34m\u001b[0m\n\u001b[0;32m      9\u001b[0m \u001b[1;33m\u001b[0m\u001b[0m\n\u001b[0;32m     10\u001b[0m \u001b[0mobj\u001b[0m \u001b[1;33m=\u001b[0m \u001b[0mInfo\u001b[0m\u001b[1;33m(\u001b[0m\u001b[1;33m)\u001b[0m\u001b[1;33m\u001b[0m\u001b[1;33m\u001b[0m\u001b[0m\n\u001b[1;32m---> 11\u001b[1;33m \u001b[0mprint\u001b[0m\u001b[1;33m(\u001b[0m\u001b[0mobj\u001b[0m \u001b[1;33m+\u001b[0m \u001b[1;34m'Shyam'\u001b[0m\u001b[1;33m)\u001b[0m     \u001b[1;31m#concadiction cant be done.\u001b[0m\u001b[1;33m\u001b[0m\u001b[1;33m\u001b[0m\u001b[0m\n\u001b[0m\u001b[0;32m     12\u001b[0m \u001b[0mprint\u001b[0m\u001b[1;33m(\u001b[0m\u001b[0mtype\u001b[0m\u001b[1;33m(\u001b[0m\u001b[0mobj\u001b[0m\u001b[1;33m)\u001b[0m\u001b[1;33m)\u001b[0m\u001b[1;33m\u001b[0m\u001b[1;33m\u001b[0m\u001b[0m\n\u001b[0;32m     13\u001b[0m \u001b[0mprint\u001b[0m\u001b[1;33m(\u001b[0m\u001b[0mobj\u001b[0m\u001b[1;33m.\u001b[0m\u001b[0m__str__\u001b[0m\u001b[1;33m(\u001b[0m\u001b[1;33m)\u001b[0m\u001b[1;33m)\u001b[0m\u001b[1;33m\u001b[0m\u001b[1;33m\u001b[0m\u001b[0m\n",
      "\u001b[1;31mTypeError\u001b[0m: unsupported operand type(s) for +: 'Info' and 'str'"
     ]
    }
   ],
   "source": [
    "class Info:\n",
    "    def __init__(self):\n",
    "        self.name = 'Ram'\n",
    "        self.age = '26'\n",
    "        self.add = 'Kathmandu'\n",
    "        \n",
    "    def __str__(self):\n",
    "        return self.name\n",
    "    \n",
    "obj = Info()\n",
    "print(obj + 'Shyam')     #concadiction cant be done.\n",
    "print(type(obj))\n",
    "print(obj.__str__())"
   ]
  },
  {
   "cell_type": "code",
   "execution_count": 9,
   "id": "a7f3fa9c",
   "metadata": {},
   "outputs": [],
   "source": [
    "# Two objects can't be concadicate\n",
    "# we use object overloading\n"
   ]
  },
  {
   "cell_type": "code",
   "execution_count": 10,
   "id": "f99edc9e",
   "metadata": {},
   "outputs": [
    {
     "name": "stdout",
     "output_type": "stream",
     "text": [
      "(1,5)\n"
     ]
    }
   ],
   "source": [
    "class Point:\n",
    "    def __init__(self,x=0,y=0):\n",
    "        self.x = x\n",
    "        self.y = y\n",
    "        \n",
    "    def __str__(self):\n",
    "        return f'({self.x},{self.y})'\n",
    "    def __add__(self,other):\n",
    "        x= self.x +other.x\n",
    "        y = self.y+other.y\n",
    "        return Point(x,y)\n",
    "    \n",
    "p1 = Point(2,3)\n",
    "p2 = Point(-1,2)\n",
    "print(p1+p2)"
   ]
  },
  {
   "cell_type": "code",
   "execution_count": null,
   "id": "7f60cdac",
   "metadata": {},
   "outputs": [],
   "source": []
  }
 ],
 "metadata": {
  "kernelspec": {
   "display_name": "Python 3 (ipykernel)",
   "language": "python",
   "name": "python3"
  },
  "language_info": {
   "codemirror_mode": {
    "name": "ipython",
    "version": 3
   },
   "file_extension": ".py",
   "mimetype": "text/x-python",
   "name": "python",
   "nbconvert_exporter": "python",
   "pygments_lexer": "ipython3",
   "version": "3.9.13"
  }
 },
 "nbformat": 4,
 "nbformat_minor": 5
}

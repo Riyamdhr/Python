{
 "cells": [
  {
   "cell_type": "code",
   "execution_count": 1,
   "id": "0d997940",
   "metadata": {},
   "outputs": [
    {
     "name": "stdout",
     "output_type": "stream",
     "text": [
      "The file is already there....\n"
     ]
    }
   ],
   "source": [
    "try:\n",
    "    file = open('new_file.csv','x')\n",
    "    file.close()\n",
    "except:\n",
    "    print('The file is already there....')"
   ]
  },
  {
   "cell_type": "code",
   "execution_count": null,
   "id": "9494d746",
   "metadata": {},
   "outputs": [],
   "source": [
    "# if pandas not imported\n",
    "# !pip install pandas"
   ]
  },
  {
   "cell_type": "code",
   "execution_count": 25,
   "id": "e2024e05",
   "metadata": {},
   "outputs": [
    {
     "name": "stdout",
     "output_type": "stream",
     "text": [
      "   sn   name  age        add      phone\n",
      "0   1    Ram   34  kathmandu    9876543\n",
      "1   2  Shyam   22   lalitpur  984563782\n",
      "2   3   Hari   25  bhaktapur   98357253\n",
      "3   4   Rita   29  kathmandu  986545678\n",
      "4   5  Nabin   32   lalitpur  985426715\n",
      "5   6   kate   27    chitwan  986523456\n"
     ]
    }
   ],
   "source": [
    "import pandas as pd\n",
    "df = pd.read_csv('new_file.csv')\n",
    "print(df)"
   ]
  },
  {
   "cell_type": "code",
   "execution_count": 26,
   "id": "e6759d3e",
   "metadata": {},
   "outputs": [
    {
     "name": "stdout",
     "output_type": "stream",
     "text": [
      "   sn   name  age        add      phone\n",
      "0   1    Ram   34  kathmandu    9876543\n",
      "1   2  Shyam   22   lalitpur  984563782\n"
     ]
    }
   ],
   "source": [
    "import pandas as pd\n",
    "df = pd.read_csv('new_file.csv',nrows = 2)\n",
    "print(df)"
   ]
  },
  {
   "cell_type": "code",
   "execution_count": 4,
   "id": "cd87fcf5",
   "metadata": {},
   "outputs": [
    {
     "name": "stdout",
     "output_type": "stream",
     "text": [
      "   sn   name  age        add      phone\n",
      "0   1    Ram   34  Kathmandu    9876543\n",
      "1   2  Shyam   22   lalitpur  984563782\n",
      "2   3   Hari   25  bhaktapur   98357253\n"
     ]
    }
   ],
   "source": [
    "import pandas as pd\n",
    "df = pd.read_csv('new_file.csv')\n",
    "print(df.head(3))"
   ]
  },
  {
   "cell_type": "code",
   "execution_count": 2,
   "id": "c62b0345",
   "metadata": {},
   "outputs": [
    {
     "name": "stdout",
     "output_type": "stream",
     "text": [
      "   sn   name  age        add      phone\n",
      "3   4   Rita   29  kathmandu  986545678\n",
      "4   5  Nabin   32   lalitpur  985426715\n",
      "5   6   kate   27    chitwan  986523456\n"
     ]
    }
   ],
   "source": [
    "import pandas as pd\n",
    "df = pd.read_csv('new_file.csv')\n",
    "print(df.tail(3))"
   ]
  },
  {
   "cell_type": "code",
   "execution_count": 3,
   "id": "89a875d8",
   "metadata": {},
   "outputs": [
    {
     "name": "stdout",
     "output_type": "stream",
     "text": [
      "   sn   name  age        add      phone\n",
      "0   1    Ram   34  kathmandu    9876543\n",
      "1   2  Shyam   22   lalitpur  984563782\n",
      "2   3   Hari   25  bhaktapur   98357253\n",
      "3   4   Rita   29  kathmandu  986545678\n"
     ]
    }
   ],
   "source": [
    "#index localizer --> row define \n",
    "df = pd.read_csv('new_file.csv')\n",
    "print(df.iloc[0:4])"
   ]
  },
  {
   "cell_type": "code",
   "execution_count": 4,
   "id": "718a7e6e",
   "metadata": {},
   "outputs": [
    {
     "name": "stdout",
     "output_type": "stream",
     "text": [
      "   sn   name  age\n",
      "0   1    Ram   34\n",
      "1   2  Shyam   22\n",
      "2   3   Hari   25\n",
      "3   4   Rita   29\n"
     ]
    }
   ],
   "source": [
    "df = pd.read_csv('new_file.csv')\n",
    "print(df.iloc[0:4,0:3])"
   ]
  },
  {
   "cell_type": "code",
   "execution_count": 5,
   "id": "3b6fd689",
   "metadata": {},
   "outputs": [
    {
     "name": "stdout",
     "output_type": "stream",
     "text": [
      "   sn   name      phone\n",
      "0   1    Ram    9876543\n",
      "1   2  Shyam  984563782\n",
      "2   3   Hari   98357253\n",
      "3   4   Rita  986545678\n",
      "4   5  Nabin  985426715\n",
      "5   6   kate  986523456\n"
     ]
    }
   ],
   "source": [
    "df = pd.read_csv('new_file.csv',usecols = ['sn','name','phone'])\n",
    "print(df)"
   ]
  },
  {
   "cell_type": "code",
   "execution_count": 29,
   "id": "cf665aa2",
   "metadata": {},
   "outputs": [
    {
     "data": {
      "text/plain": [
       "0      Ram\n",
       "1    Shyam\n",
       "2     Hari\n",
       "3     Rita\n",
       "4    Nabin\n",
       "5     kate\n",
       "Name: name, dtype: object"
      ]
     },
     "execution_count": 29,
     "metadata": {},
     "output_type": "execute_result"
    }
   ],
   "source": [
    "df = pd.read_csv('new_file.csv')\n",
    "df['name']          "
   ]
  },
  {
   "cell_type": "code",
   "execution_count": 14,
   "id": "f0fcc595",
   "metadata": {},
   "outputs": [
    {
     "data": {
      "text/plain": [
       "['Ram', 'Shyam', 'Hari', 'Rita', 'Nabin', 'kate']"
      ]
     },
     "execution_count": 14,
     "metadata": {},
     "output_type": "execute_result"
    }
   ],
   "source": [
    "list(df['name'])"
   ]
  },
  {
   "cell_type": "code",
   "execution_count": 6,
   "id": "7a56fe53",
   "metadata": {},
   "outputs": [
    {
     "data": {
      "text/plain": [
       "0     True\n",
       "1    False\n",
       "2    False\n",
       "3    False\n",
       "4    False\n",
       "5    False\n",
       "Name: name, dtype: bool"
      ]
     },
     "execution_count": 6,
     "metadata": {},
     "output_type": "execute_result"
    }
   ],
   "source": [
    "df = pd.read_csv('new_file.csv')\n",
    "df['name'] == 'Ram'"
   ]
  },
  {
   "cell_type": "code",
   "execution_count": 21,
   "id": "a95595aa",
   "metadata": {},
   "outputs": [
    {
     "data": {
      "text/html": [
       "<div>\n",
       "<style scoped>\n",
       "    .dataframe tbody tr th:only-of-type {\n",
       "        vertical-align: middle;\n",
       "    }\n",
       "\n",
       "    .dataframe tbody tr th {\n",
       "        vertical-align: top;\n",
       "    }\n",
       "\n",
       "    .dataframe thead th {\n",
       "        text-align: right;\n",
       "    }\n",
       "</style>\n",
       "<table border=\"1\" class=\"dataframe\">\n",
       "  <thead>\n",
       "    <tr style=\"text-align: right;\">\n",
       "      <th></th>\n",
       "      <th>sn</th>\n",
       "      <th>name</th>\n",
       "      <th>age</th>\n",
       "      <th>add</th>\n",
       "      <th>phone</th>\n",
       "    </tr>\n",
       "  </thead>\n",
       "  <tbody>\n",
       "    <tr>\n",
       "      <th>0</th>\n",
       "      <td>1</td>\n",
       "      <td>Ram</td>\n",
       "      <td>34</td>\n",
       "      <td>Kathmandu</td>\n",
       "      <td>9876543</td>\n",
       "    </tr>\n",
       "  </tbody>\n",
       "</table>\n",
       "</div>"
      ],
      "text/plain": [
       "   sn name  age        add    phone\n",
       "0   1  Ram   34  Kathmandu  9876543"
      ]
     },
     "execution_count": 21,
     "metadata": {},
     "output_type": "execute_result"
    }
   ],
   "source": [
    "df[df['name'] == 'Ram']"
   ]
  },
  {
   "cell_type": "code",
   "execution_count": 31,
   "id": "688aabcd",
   "metadata": {},
   "outputs": [
    {
     "data": {
      "text/html": [
       "<div>\n",
       "<style scoped>\n",
       "    .dataframe tbody tr th:only-of-type {\n",
       "        vertical-align: middle;\n",
       "    }\n",
       "\n",
       "    .dataframe tbody tr th {\n",
       "        vertical-align: top;\n",
       "    }\n",
       "\n",
       "    .dataframe thead th {\n",
       "        text-align: right;\n",
       "    }\n",
       "</style>\n",
       "<table border=\"1\" class=\"dataframe\">\n",
       "  <thead>\n",
       "    <tr style=\"text-align: right;\">\n",
       "      <th></th>\n",
       "      <th>sn</th>\n",
       "      <th>name</th>\n",
       "      <th>age</th>\n",
       "      <th>add</th>\n",
       "      <th>phone</th>\n",
       "    </tr>\n",
       "  </thead>\n",
       "  <tbody>\n",
       "    <tr>\n",
       "      <th>0</th>\n",
       "      <td>1</td>\n",
       "      <td>Ram</td>\n",
       "      <td>34</td>\n",
       "      <td>kathmandu</td>\n",
       "      <td>9876543</td>\n",
       "    </tr>\n",
       "    <tr>\n",
       "      <th>3</th>\n",
       "      <td>4</td>\n",
       "      <td>Rita</td>\n",
       "      <td>29</td>\n",
       "      <td>kathmandu</td>\n",
       "      <td>986545678</td>\n",
       "    </tr>\n",
       "  </tbody>\n",
       "</table>\n",
       "</div>"
      ],
      "text/plain": [
       "   sn  name  age        add      phone\n",
       "0   1   Ram   34  kathmandu    9876543\n",
       "3   4  Rita   29  kathmandu  986545678"
      ]
     },
     "execution_count": 31,
     "metadata": {},
     "output_type": "execute_result"
    }
   ],
   "source": [
    "df[df['add'] == 'kathmandu']"
   ]
  },
  {
   "cell_type": "code",
   "execution_count": 33,
   "id": "5aa90741",
   "metadata": {},
   "outputs": [
    {
     "data": {
      "text/html": [
       "<div>\n",
       "<style scoped>\n",
       "    .dataframe tbody tr th:only-of-type {\n",
       "        vertical-align: middle;\n",
       "    }\n",
       "\n",
       "    .dataframe tbody tr th {\n",
       "        vertical-align: top;\n",
       "    }\n",
       "\n",
       "    .dataframe thead th {\n",
       "        text-align: right;\n",
       "    }\n",
       "</style>\n",
       "<table border=\"1\" class=\"dataframe\">\n",
       "  <thead>\n",
       "    <tr style=\"text-align: right;\">\n",
       "      <th></th>\n",
       "      <th>sn</th>\n",
       "      <th>name</th>\n",
       "      <th>age</th>\n",
       "      <th>add</th>\n",
       "      <th>phone</th>\n",
       "    </tr>\n",
       "  </thead>\n",
       "  <tbody>\n",
       "    <tr>\n",
       "      <th>0</th>\n",
       "      <td>1</td>\n",
       "      <td>Ram</td>\n",
       "      <td>34</td>\n",
       "      <td>kathmandu</td>\n",
       "      <td>9876543</td>\n",
       "    </tr>\n",
       "    <tr>\n",
       "      <th>1</th>\n",
       "      <td>2</td>\n",
       "      <td>Shyam</td>\n",
       "      <td>22</td>\n",
       "      <td>lalitpur</td>\n",
       "      <td>984563782</td>\n",
       "    </tr>\n",
       "    <tr>\n",
       "      <th>2</th>\n",
       "      <td>3</td>\n",
       "      <td>Hari</td>\n",
       "      <td>25</td>\n",
       "      <td>bhaktapur</td>\n",
       "      <td>98357253</td>\n",
       "    </tr>\n",
       "    <tr>\n",
       "      <th>3</th>\n",
       "      <td>4</td>\n",
       "      <td>Rita</td>\n",
       "      <td>29</td>\n",
       "      <td>kathmandu</td>\n",
       "      <td>986545678</td>\n",
       "    </tr>\n",
       "    <tr>\n",
       "      <th>4</th>\n",
       "      <td>5</td>\n",
       "      <td>Nabin</td>\n",
       "      <td>32</td>\n",
       "      <td>lalitpur</td>\n",
       "      <td>985426715</td>\n",
       "    </tr>\n",
       "    <tr>\n",
       "      <th>5</th>\n",
       "      <td>6</td>\n",
       "      <td>kate</td>\n",
       "      <td>27</td>\n",
       "      <td>chitwan</td>\n",
       "      <td>986523456</td>\n",
       "    </tr>\n",
       "  </tbody>\n",
       "</table>\n",
       "</div>"
      ],
      "text/plain": [
       "   sn   name  age        add      phone\n",
       "0   1    Ram   34  kathmandu    9876543\n",
       "1   2  Shyam   22   lalitpur  984563782\n",
       "2   3   Hari   25  bhaktapur   98357253\n",
       "3   4   Rita   29  kathmandu  986545678\n",
       "4   5  Nabin   32   lalitpur  985426715\n",
       "5   6   kate   27    chitwan  986523456"
      ]
     },
     "execution_count": 33,
     "metadata": {},
     "output_type": "execute_result"
    }
   ],
   "source": [
    "df[df['age'] > 20]"
   ]
  },
  {
   "cell_type": "code",
   "execution_count": 37,
   "id": "25b5e08e",
   "metadata": {},
   "outputs": [
    {
     "data": {
      "text/html": [
       "<div>\n",
       "<style scoped>\n",
       "    .dataframe tbody tr th:only-of-type {\n",
       "        vertical-align: middle;\n",
       "    }\n",
       "\n",
       "    .dataframe tbody tr th {\n",
       "        vertical-align: top;\n",
       "    }\n",
       "\n",
       "    .dataframe thead th {\n",
       "        text-align: right;\n",
       "    }\n",
       "</style>\n",
       "<table border=\"1\" class=\"dataframe\">\n",
       "  <thead>\n",
       "    <tr style=\"text-align: right;\">\n",
       "      <th></th>\n",
       "      <th>sn</th>\n",
       "      <th>name</th>\n",
       "      <th>age</th>\n",
       "      <th>add</th>\n",
       "      <th>phone</th>\n",
       "    </tr>\n",
       "  </thead>\n",
       "  <tbody>\n",
       "    <tr>\n",
       "      <th>0</th>\n",
       "      <td>1</td>\n",
       "      <td>Ram</td>\n",
       "      <td>34</td>\n",
       "      <td>kathmandu</td>\n",
       "      <td>9876543</td>\n",
       "    </tr>\n",
       "    <tr>\n",
       "      <th>3</th>\n",
       "      <td>4</td>\n",
       "      <td>Rita</td>\n",
       "      <td>29</td>\n",
       "      <td>kathmandu</td>\n",
       "      <td>986545678</td>\n",
       "    </tr>\n",
       "  </tbody>\n",
       "</table>\n",
       "</div>"
      ],
      "text/plain": [
       "   sn  name  age        add      phone\n",
       "0   1   Ram   34  kathmandu    9876543\n",
       "3   4  Rita   29  kathmandu  986545678"
      ]
     },
     "execution_count": 37,
     "metadata": {},
     "output_type": "execute_result"
    }
   ],
   "source": [
    "df[(df['age'] > 20) & (df['add'] == 'kathmandu')]"
   ]
  },
  {
   "cell_type": "code",
   "execution_count": 41,
   "id": "55270618",
   "metadata": {},
   "outputs": [],
   "source": [
    "data = df[(df['age'] > 30)]\n",
    "data.to_csv('new_data_age.csv')"
   ]
  },
  {
   "cell_type": "code",
   "execution_count": 43,
   "id": "fe13ba75",
   "metadata": {},
   "outputs": [
    {
     "name": "stdout",
     "output_type": "stream",
     "text": [
      "     name  age        add      phone\n",
      "sn                                  \n",
      "1     Ram   34  kathmandu    9876543\n",
      "2   Shyam   22   lalitpur  984563782\n",
      "3    Hari   25  bhaktapur   98357253\n",
      "4    Rita   29  kathmandu  986545678\n",
      "5   Nabin   32   lalitpur  985426715\n",
      "6    kate   27    chitwan  986523456\n"
     ]
    }
   ],
   "source": [
    "df = pd.read_csv('new_file.csv',index_col = 0)\n",
    "print(df)\n",
    "\n",
    "#here sn will act like an origin"
   ]
  },
  {
   "cell_type": "code",
   "execution_count": 46,
   "id": "59531215",
   "metadata": {},
   "outputs": [
    {
     "data": {
      "text/html": [
       "<div>\n",
       "<style scoped>\n",
       "    .dataframe tbody tr th:only-of-type {\n",
       "        vertical-align: middle;\n",
       "    }\n",
       "\n",
       "    .dataframe tbody tr th {\n",
       "        vertical-align: top;\n",
       "    }\n",
       "\n",
       "    .dataframe thead th {\n",
       "        text-align: right;\n",
       "    }\n",
       "</style>\n",
       "<table border=\"1\" class=\"dataframe\">\n",
       "  <thead>\n",
       "    <tr style=\"text-align: right;\">\n",
       "      <th></th>\n",
       "      <th>name</th>\n",
       "      <th>age</th>\n",
       "      <th>add</th>\n",
       "      <th>phone</th>\n",
       "    </tr>\n",
       "    <tr>\n",
       "      <th>sn</th>\n",
       "      <th></th>\n",
       "      <th></th>\n",
       "      <th></th>\n",
       "      <th></th>\n",
       "    </tr>\n",
       "  </thead>\n",
       "  <tbody>\n",
       "    <tr>\n",
       "      <th>1</th>\n",
       "      <td>Ram</td>\n",
       "      <td>34</td>\n",
       "      <td>kathmandu</td>\n",
       "      <td>9876543</td>\n",
       "    </tr>\n",
       "    <tr>\n",
       "      <th>2</th>\n",
       "      <td>Shyam</td>\n",
       "      <td>22</td>\n",
       "      <td>lalitpur</td>\n",
       "      <td>984563782</td>\n",
       "    </tr>\n",
       "    <tr>\n",
       "      <th>3</th>\n",
       "      <td>Hari</td>\n",
       "      <td>25</td>\n",
       "      <td>bhaktapur</td>\n",
       "      <td>98357253</td>\n",
       "    </tr>\n",
       "    <tr>\n",
       "      <th>4</th>\n",
       "      <td>Rita</td>\n",
       "      <td>29</td>\n",
       "      <td>kathmandu</td>\n",
       "      <td>986545678</td>\n",
       "    </tr>\n",
       "  </tbody>\n",
       "</table>\n",
       "</div>"
      ],
      "text/plain": [
       "     name  age        add      phone\n",
       "sn                                  \n",
       "1     Ram   34  kathmandu    9876543\n",
       "2   Shyam   22   lalitpur  984563782\n",
       "3    Hari   25  bhaktapur   98357253\n",
       "4    Rita   29  kathmandu  986545678"
      ]
     },
     "execution_count": 46,
     "metadata": {},
     "output_type": "execute_result"
    }
   ],
   "source": [
    "df.loc[1:4]"
   ]
  },
  {
   "cell_type": "code",
   "execution_count": 8,
   "id": "6bb6c72b",
   "metadata": {},
   "outputs": [
    {
     "data": {
      "text/html": [
       "<div>\n",
       "<style scoped>\n",
       "    .dataframe tbody tr th:only-of-type {\n",
       "        vertical-align: middle;\n",
       "    }\n",
       "\n",
       "    .dataframe tbody tr th {\n",
       "        vertical-align: top;\n",
       "    }\n",
       "\n",
       "    .dataframe thead th {\n",
       "        text-align: right;\n",
       "    }\n",
       "</style>\n",
       "<table border=\"1\" class=\"dataframe\">\n",
       "  <thead>\n",
       "    <tr style=\"text-align: right;\">\n",
       "      <th></th>\n",
       "      <th>name</th>\n",
       "      <th>age</th>\n",
       "      <th>add</th>\n",
       "    </tr>\n",
       "  </thead>\n",
       "  <tbody>\n",
       "    <tr>\n",
       "      <th>0</th>\n",
       "      <td>Ram</td>\n",
       "      <td>22</td>\n",
       "      <td>kathmandu</td>\n",
       "    </tr>\n",
       "    <tr>\n",
       "      <th>1</th>\n",
       "      <td>Shyam</td>\n",
       "      <td>19</td>\n",
       "      <td>lalitpur</td>\n",
       "    </tr>\n",
       "    <tr>\n",
       "      <th>2</th>\n",
       "      <td>Hari</td>\n",
       "      <td>25</td>\n",
       "      <td>bhaktapur</td>\n",
       "    </tr>\n",
       "  </tbody>\n",
       "</table>\n",
       "</div>"
      ],
      "text/plain": [
       "    name  age        add\n",
       "0    Ram   22  kathmandu\n",
       "1  Shyam   19   lalitpur\n",
       "2   Hari   25  bhaktapur"
      ]
     },
     "execution_count": 8,
     "metadata": {},
     "output_type": "execute_result"
    }
   ],
   "source": [
    "#json is light weighted \n",
    "\n",
    "data = {'name':['Ram','Shyam','Hari'],\n",
    "       'age':[22,19,25],\n",
    "       'add':['kathmandu','lalitpur','bhaktapur']}\n",
    "df = pd.DataFrame(data)\n",
    "df.to_csv('info.csv')\n",
    "df.to_json('info.json')\n",
    "df"
   ]
  },
  {
   "cell_type": "code",
   "execution_count": 51,
   "id": "6204023d",
   "metadata": {},
   "outputs": [
    {
     "name": "stdout",
     "output_type": "stream",
     "text": [
      "{'': '0', 'name': 'Ram', 'age': '22', 'add': 'kathmandu'}\n",
      "{'': '1', 'name': 'Shyam', 'age': '19', 'add': 'lalitpur'}\n",
      "{'': '2', 'name': 'Hari', 'age': '25', 'add': 'bhaktapur'}\n"
     ]
    }
   ],
   "source": [
    "import csv\n",
    "with open('info.csv') as csvfile:\n",
    "    reader = csv.DictReader(csvfile)\n",
    "    for row in reader:\n",
    "        print(row)"
   ]
  },
  {
   "cell_type": "code",
   "execution_count": 58,
   "id": "2d470b56",
   "metadata": {},
   "outputs": [],
   "source": [
    "import csv\n",
    "data = [['name','age','address'],\n",
    "       ['Ram',32,'kathmandu'],\n",
    "       ['Shyam',22,'lalitpur']]\n",
    "file = open('list_file.csv','w')\n",
    "x = csv.writer(file)\n",
    "x.writerows(data)\n",
    "file.close()"
   ]
  },
  {
   "cell_type": "code",
   "execution_count": 59,
   "id": "26d7f535",
   "metadata": {},
   "outputs": [
    {
     "data": {
      "text/plain": [
       "'C:\\\\Users\\\\Riya\\\\Desktop\\\\python'"
      ]
     },
     "execution_count": 59,
     "metadata": {},
     "output_type": "execute_result"
    }
   ],
   "source": [
    "pwd"
   ]
  }
 ],
 "metadata": {
  "kernelspec": {
   "display_name": "Python 3 (ipykernel)",
   "language": "python",
   "name": "python3"
  },
  "language_info": {
   "codemirror_mode": {
    "name": "ipython",
    "version": 3
   },
   "file_extension": ".py",
   "mimetype": "text/x-python",
   "name": "python",
   "nbconvert_exporter": "python",
   "pygments_lexer": "ipython3",
   "version": "3.9.13"
  }
 },
 "nbformat": 4,
 "nbformat_minor": 5
}

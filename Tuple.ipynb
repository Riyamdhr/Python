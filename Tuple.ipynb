{
 "cells": [
  {
   "cell_type": "code",
   "execution_count": 1,
   "id": "4034497e",
   "metadata": {},
   "outputs": [],
   "source": [
    "# Tuple\n",
    "# --> Indexing\n",
    "# --> Ordered\n",
    "# --> Duplicate and multiple data \n",
    "# --> Immutable\n",
    "# Tuple cant be created by any functions but can be written in predefined function\n",
    "# It cant be updated i.e no del remove() pop() \n",
    "# It can be read by using for loop\n",
    "# We can concadicate the tuple and create tuple\n",
    "# Used in static data. most;y used in drop down menu\n",
    "# Light weight than string\n",
    "# Can use function like index,sum,max,min but cant use other functions like remove() append etc."
   ]
  },
  {
   "cell_type": "code",
   "execution_count": 3,
   "id": "ad366b79",
   "metadata": {},
   "outputs": [
    {
     "name": "stdout",
     "output_type": "stream",
     "text": [
      "<class 'tuple'>\n"
     ]
    }
   ],
   "source": [
    "a=(1,2,3,4,5,6)\n",
    "print(type(a))"
   ]
  },
  {
   "cell_type": "code",
   "execution_count": 9,
   "id": "6c55c86d",
   "metadata": {},
   "outputs": [
    {
     "name": "stdout",
     "output_type": "stream",
     "text": [
      "<class 'tuple'>\n",
      "<class 'int'>\n",
      "<class 'tuple'>\n"
     ]
    }
   ],
   "source": [
    "# if there is only one data in ()then it's not tuple but its data type. in order to make single data as tuple then\n",
    "# we must add ',' i.e(1,)\n",
    "a = (1,2,3)\n",
    "b = (1)\n",
    "data = ()\n",
    "print(type(a))\n",
    "print(type(b))\n",
    "print(type(data))"
   ]
  },
  {
   "cell_type": "code",
   "execution_count": 10,
   "id": "47be70fb",
   "metadata": {},
   "outputs": [
    {
     "name": "stdout",
     "output_type": "stream",
     "text": [
      "Enter n = 2\n",
      "Enter x = asd\n",
      "Enter x = abc\n",
      "('asd', 'abc')\n"
     ]
    }
   ],
   "source": [
    "data = ()\n",
    "n = int(input('Enter n = '))\n",
    "for i in range(n):\n",
    "    x = input('Enter x = ')\n",
    "    data += (x,)\n",
    "print(data)"
   ]
  },
  {
   "cell_type": "code",
   "execution_count": 15,
   "id": "4f868f30",
   "metadata": {},
   "outputs": [
    {
     "data": {
      "text/plain": [
       "('ball',)"
      ]
     },
     "execution_count": 15,
     "metadata": {},
     "output_type": "execute_result"
    }
   ],
   "source": [
    "a=('apple','ball')\n",
    "a=list(a)\n",
    "del a[0]\n",
    "a=tuple(a)\n",
    "a"
   ]
  }
 ],
 "metadata": {
  "kernelspec": {
   "display_name": "Python 3 (ipykernel)",
   "language": "python",
   "name": "python3"
  },
  "language_info": {
   "codemirror_mode": {
    "name": "ipython",
    "version": 3
   },
   "file_extension": ".py",
   "mimetype": "text/x-python",
   "name": "python",
   "nbconvert_exporter": "python",
   "pygments_lexer": "ipython3",
   "version": "3.9.13"
  }
 },
 "nbformat": 4,
 "nbformat_minor": 5
}

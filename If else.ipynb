{
 "cells": [
  {
   "cell_type": "code",
   "execution_count": 3,
   "id": "5dd73da4",
   "metadata": {},
   "outputs": [
    {
     "name": "stdout",
     "output_type": "stream",
     "text": [
      "False\n",
      "False\n",
      "True\n",
      "False\n",
      "True\n"
     ]
    }
   ],
   "source": [
    "a = 10\n",
    "b = 20\n",
    "print(a>b)#greater tahn\n",
    "print(a>=b)#greater equal to\n",
    "print(a<=b)#lesser or equal to\n",
    "print(a==b)#a is equal to b\n",
    "print(a!=b)#a is not equal to b"
   ]
  },
  {
   "cell_type": "code",
   "execution_count": 13,
   "id": "1d7300f6",
   "metadata": {},
   "outputs": [
    {
     "name": "stdout",
     "output_type": "stream",
     "text": [
      "a= 12\n",
      "b = 14\n",
      "12  is less than  14\n"
     ]
    }
   ],
   "source": [
    "a=int(input(\"a= \"))\n",
    "b= int(input(\"b = \"))\n",
    "if a<b:\n",
    "    print(a,\" is less than \",b)\n",
    "elif(a>b):\n",
    "    print(a ,\" is greater than \",b)\n",
    "else:\n",
    "    print(a,\" is equal to \",b)"
   ]
  },
  {
   "cell_type": "code",
   "execution_count": 9,
   "id": "ab7a93a8",
   "metadata": {},
   "outputs": [
    {
     "name": "stdout",
     "output_type": "stream",
     "text": [
      "a= 23\n",
      "23  is odd\n"
     ]
    }
   ],
   "source": [
    "a = int(input(\"a= \"))\n",
    "if a%2==0:\n",
    "    print(a,\" is even\")\n",
    "else:\n",
    "    print(a,\" is odd\")"
   ]
  },
  {
   "cell_type": "code",
   "execution_count": 18,
   "id": "58ecc0a0",
   "metadata": {},
   "outputs": [
    {
     "name": "stdout",
     "output_type": "stream",
     "text": [
      "a= 23\n",
      "b = 12\n",
      "Enter +,/,-,*  %\n",
      "INVALID OPERATOR\n"
     ]
    }
   ],
   "source": [
    "a=int(input(\"a= \"))\n",
    "b= int(input(\"b = \"))\n",
    "o= input(\"Enter +,/,-,*  \")\n",
    "if o==\"+\":\n",
    "    c=a+b\n",
    "    print(c)\n",
    "elif o == \"-\":\n",
    "    c=a-b\n",
    "    print(c)\n",
    "elif o==\"*\":\n",
    "    c=a*b\n",
    "    print(c)\n",
    "elif o ==\"/\":\n",
    "    c=a/b\n",
    "    print(c)\n",
    "else:\n",
    "    print(\"INVALID OPERATOR\")\n"
   ]
  },
  {
   "cell_type": "code",
   "execution_count": 3,
   "id": "5f43b1c4",
   "metadata": {},
   "outputs": [
    {
     "name": "stdout",
     "output_type": "stream",
     "text": [
      "Enter the marks of the math 34\n",
      "Enter the marks of the physics 56\n",
      "Enter the marks of the chemistry 56\n",
      "Enter the marks of the english 45\n",
      "Enter the marks of the Nepali 67\n",
      "Grade of the student is  C\n"
     ]
    }
   ],
   "source": [
    "\n",
    "Math = float(input(\"Enter the marks of the math \"))\n",
    "Physics= float(input(\"Enter the marks of the physics \"))\n",
    "Chemistry= float(input(\"Enter the marks of the chemistry \"))\n",
    "English= float(input(\"Enter the marks of the english \"))\n",
    "Nepali = float(input(\"Enter the marks of the Nepali \"))\n",
    "Total= Math+Physics+Chemistry+English+Nepali\n",
    "per=(Total/5)\n",
    "if per >= 80:\n",
    "    grade = \"A\"\n",
    "elif per >= 60:\n",
    "    grade = 'B'\n",
    "elif per >= 45:\n",
    "    grade = 'C'\n",
    "else:\n",
    "    grade = 'F'\n",
    "\n",
    "print(\"Grade of the student is \",grade)"
   ]
  },
  {
   "cell_type": "code",
   "execution_count": 4,
   "id": "948ee301",
   "metadata": {},
   "outputs": [
    {
     "name": "stdout",
     "output_type": "stream",
     "text": [
      "a= 34\n",
      "b = 0\n",
      "Enter +,/,-,*  /\n",
      "The value of b can not be zero.\n"
     ]
    }
   ],
   "source": [
    "a=int(input(\"a= \"))\n",
    "b= int(input(\"b = \"))\n",
    "o= input(\"Enter +,/,-,*  \")\n",
    "if o==\"+\":\n",
    "    c=a+b\n",
    "    print(c)\n",
    "elif o == \"-\":\n",
    "    c=a-b\n",
    "    print(c)\n",
    "elif o==\"*\":\n",
    "    c=a*b\n",
    "    print(c)\n",
    "elif o ==\"/\" and b != 0:\n",
    "    c=a/b\n",
    "    print(c)\n",
    "elif o ==\"/\" and b == 0:\n",
    "    print(\"The value of b can not be zero.\")\n",
    "else:\n",
    "    print(\"INVALID OPERATOR!!!\")\n"
   ]
  },
  {
   "cell_type": "code",
   "execution_count": 6,
   "id": "18e1c210",
   "metadata": {},
   "outputs": [
    {
     "name": "stdout",
     "output_type": "stream",
     "text": [
      "Enter the marks of the math 60\n",
      "Enter the marks of the physics 60\n",
      "Enter the marks of the chemistry 60\n",
      "Enter the marks of the english 60\n",
      "Enter the marks of the Nepali 60\n",
      "Grade of the student is  B\n"
     ]
    }
   ],
   "source": [
    "\n",
    "Math = float(input(\"Enter the marks of the math \"))\n",
    "Physics= float(input(\"Enter the marks of the physics \"))\n",
    "Chemistry= float(input(\"Enter the marks of the chemistry \"))\n",
    "English= float(input(\"Enter the marks of the english \"))\n",
    "Nepali = float(input(\"Enter the marks of the Nepali \"))\n",
    "Total= Math+Physics+Chemistry+English+Nepali\n",
    "per=(Total/5)\n",
    "if per >= 80 or per == 80:\n",
    "    grade = \"A\"\n",
    "elif per >= 60 or per == 60:\n",
    "    grade = 'B'\n",
    "elif per >= 45 or per == 45:\n",
    "    grade = 'C'\n",
    "else:\n",
    "    grade = 'F'\n",
    "\n",
    "print(\"Grade of the student is \",grade)"
   ]
  },
  {
   "cell_type": "code",
   "execution_count": null,
   "id": "881a301c",
   "metadata": {},
   "outputs": [],
   "source": []
  }
 ],
 "metadata": {
  "kernelspec": {
   "display_name": "Python 3 (ipykernel)",
   "language": "python",
   "name": "python3"
  },
  "language_info": {
   "codemirror_mode": {
    "name": "ipython",
    "version": 3
   },
   "file_extension": ".py",
   "mimetype": "text/x-python",
   "name": "python",
   "nbconvert_exporter": "python",
   "pygments_lexer": "ipython3",
   "version": "3.9.13"
  }
 },
 "nbformat": 4,
 "nbformat_minor": 5
}

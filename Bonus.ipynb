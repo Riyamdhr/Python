{
 "cells": [
  {
   "cell_type": "code",
   "execution_count": 1,
   "id": "7673bb30",
   "metadata": {},
   "outputs": [
    {
     "name": "stdout",
     "output_type": "stream",
     "text": [
      "2023-01-03 15:22:28.909146\n"
     ]
    }
   ],
   "source": [
    "import datetime\n",
    "\n",
    "x = datetime.datetime.now()\n",
    "print(x)"
   ]
  },
  {
   "cell_type": "code",
   "execution_count": 6,
   "id": "247311a0",
   "metadata": {},
   "outputs": [
    {
     "name": "stdout",
     "output_type": "stream",
     "text": [
      "Tue Jan  3 15:24:46 2023\n"
     ]
    }
   ],
   "source": [
    "import datetime\n",
    "\n",
    "x = datetime.datetime.now()\n",
    "print(x.strftime('%c'))"
   ]
  },
  {
   "cell_type": "code",
   "execution_count": 7,
   "id": "84057fa1",
   "metadata": {},
   "outputs": [],
   "source": [
    "for i in range(100):\n",
    "    pass\n"
   ]
  },
  {
   "cell_type": "code",
   "execution_count": 8,
   "id": "b9c3ef6e",
   "metadata": {},
   "outputs": [
    {
     "name": "stdout",
     "output_type": "stream",
     "text": [
      "0:00:00\n"
     ]
    }
   ],
   "source": [
    "#to check how much time did the program took to process the code \n",
    "import datetime\n",
    "x = datetime.datetime.now()\n",
    "for i in range(100):\n",
    "    pass\n",
    "\n",
    "y = datetime.datetime.now()\n",
    "print(y-x)"
   ]
  },
  {
   "cell_type": "code",
   "execution_count": 9,
   "id": "d8cad10d",
   "metadata": {},
   "outputs": [
    {
     "name": "stdout",
     "output_type": "stream",
     "text": [
      "Enter name = riya\n",
      "0:00:02.467288\n"
     ]
    }
   ],
   "source": [
    "import datetime\n",
    "x = datetime.datetime.now()\n",
    "name = input('Enter name = ')\n",
    "\n",
    "y = datetime.datetime.now()\n",
    "print(y-x)\n"
   ]
  },
  {
   "cell_type": "code",
   "execution_count": 14,
   "id": "9956ad2e",
   "metadata": {},
   "outputs": [
    {
     "name": "stdout",
     "output_type": "stream",
     "text": [
      "1 day, 0:10:25\n"
     ]
    }
   ],
   "source": [
    "import datetime\n",
    "\n",
    "x = datetime.datetime(2020,5,17,12,10,59)\n",
    "y = datetime.datetime(2020,5,16,12,0,34)\n",
    "\n",
    "print(str(x-y))"
   ]
  },
  {
   "cell_type": "code",
   "execution_count": 16,
   "id": "6affe2b3",
   "metadata": {},
   "outputs": [
    {
     "data": {
      "text/plain": [
       "[0, 1, 2, 3, 4]"
      ]
     },
     "execution_count": 16,
     "metadata": {},
     "output_type": "execute_result"
    }
   ],
   "source": [
    "# Comprehensions: List, Dictionary \n",
    "#-->List\n",
    "a = [i for i in range(5)]\n",
    "a"
   ]
  },
  {
   "cell_type": "code",
   "execution_count": 17,
   "id": "d6cf8231",
   "metadata": {},
   "outputs": [
    {
     "data": {
      "text/plain": [
       "[0, 2, 4, 6, 8, 10, 12, 14, 16, 18]"
      ]
     },
     "execution_count": 17,
     "metadata": {},
     "output_type": "execute_result"
    }
   ],
   "source": [
    "a=[i for i in range(20) if i%2==0]\n",
    "a"
   ]
  },
  {
   "cell_type": "code",
   "execution_count": 19,
   "id": "6485a0dd",
   "metadata": {},
   "outputs": [
    {
     "name": "stdout",
     "output_type": "stream",
     "text": [
      "Enter name = qwer\n",
      "Enter name = asdfg\n",
      "Enter name = jhgfi\n",
      "Enter name = oiu\n",
      "Enter name = hg\n"
     ]
    },
    {
     "data": {
      "text/plain": [
       "['qwer', 'asdfg', 'jhgfi', 'oiu', 'hg']"
      ]
     },
     "execution_count": 19,
     "metadata": {},
     "output_type": "execute_result"
    }
   ],
   "source": [
    "a=[input('Enter name = ') for i in range(5)]\n",
    "a"
   ]
  },
  {
   "cell_type": "code",
   "execution_count": 20,
   "id": "8ad894e3",
   "metadata": {},
   "outputs": [],
   "source": [
    "#comprehension is mostly used in calculation of linear equation\n"
   ]
  },
  {
   "cell_type": "code",
   "execution_count": 23,
   "id": "fd5c9f6e",
   "metadata": {},
   "outputs": [
    {
     "name": "stdout",
     "output_type": "stream",
     "text": [
      "Enter number = 1\n",
      "Enter number = 2\n",
      "Enter number = 3\n",
      "Enter number = 4\n",
      "Enter number = 6\n"
     ]
    },
    {
     "data": {
      "text/plain": [
       "16"
      ]
     },
     "execution_count": 23,
     "metadata": {},
     "output_type": "execute_result"
    }
   ],
   "source": [
    "a =sum([int(input('Enter number = ')) for i in range(5)])\n",
    "a"
   ]
  },
  {
   "cell_type": "code",
   "execution_count": 26,
   "id": "b069f69d",
   "metadata": {},
   "outputs": [
    {
     "data": {
      "text/plain": [
       "['Apple', 'Ball', 'Cat']"
      ]
     },
     "execution_count": 26,
     "metadata": {},
     "output_type": "execute_result"
    }
   ],
   "source": [
    "a = ['Apple','Ball','Cat','bus','air','zebra']\n",
    "b = [i for i in a if i[0].isupper()]\n",
    "b"
   ]
  },
  {
   "cell_type": "code",
   "execution_count": 34,
   "id": "ea4b9550",
   "metadata": {},
   "outputs": [
    {
     "data": {
      "text/plain": [
       "{1: 1, 2: 4, 3: 9, 4: 16}"
      ]
     },
     "execution_count": 34,
     "metadata": {},
     "output_type": "execute_result"
    }
   ],
   "source": [
    "# used for mapping\n",
    "d = {i:i**2 for i in range(1,5)}\n",
    "d"
   ]
  },
  {
   "cell_type": "code",
   "execution_count": 35,
   "id": "bbdd70a1",
   "metadata": {},
   "outputs": [
    {
     "data": {
      "text/plain": [
       "[1, 4, 9, 16]"
      ]
     },
     "execution_count": 35,
     "metadata": {},
     "output_type": "execute_result"
    }
   ],
   "source": [
    "d = {i:i**2 for i in range(1,5)}\n",
    "list(d.values())"
   ]
  },
  {
   "cell_type": "code",
   "execution_count": 36,
   "id": "3212ba57",
   "metadata": {},
   "outputs": [
    {
     "name": "stdout",
     "output_type": "stream",
     "text": [
      "{'Apple': 'apple', 'Ball': 'ball', 'Cat': 'cat', 'bus': 'bus', 'air': 'air', 'zebra': 'zebra'}\n"
     ]
    },
    {
     "data": {
      "text/plain": [
       "['apple', 'ball', 'cat', 'bus', 'air', 'zebra']"
      ]
     },
     "execution_count": 36,
     "metadata": {},
     "output_type": "execute_result"
    }
   ],
   "source": [
    "a = ['Apple','Ball','Cat','bus','air','zebra']\n",
    "d = {i:i.lower()for i in a}\n",
    "print(d)\n",
    "list(d.values())"
   ]
  },
  {
   "cell_type": "code",
   "execution_count": 37,
   "id": "feb831e4",
   "metadata": {},
   "outputs": [],
   "source": [
    "# #Lambda function\n",
    "\n",
    "# lambda<arguments> : <expression>\n"
   ]
  },
  {
   "cell_type": "code",
   "execution_count": 39,
   "id": "e970c77c",
   "metadata": {},
   "outputs": [
    {
     "name": "stdout",
     "output_type": "stream",
     "text": [
      "square =  16\n"
     ]
    }
   ],
   "source": [
    "x = lambda a:a**2\n",
    "print('square = ',x(4))\n"
   ]
  },
  {
   "cell_type": "code",
   "execution_count": 44,
   "id": "1896995c",
   "metadata": {},
   "outputs": [
    {
     "name": "stdout",
     "output_type": "stream",
     "text": [
      "[3, 3, 6, 33]\n",
      "[2, 4, 6, 22]\n"
     ]
    }
   ],
   "source": [
    "#filtering\n",
    "#filter function has two arguments\n",
    "\n",
    "List = [1,2,3,4,3,5,6,33,22]\n",
    "div =  list(filter(lambda x : (x%3==  0),List))\n",
    "even =  list(filter(lambda x : (x%2==0),List))\n",
    "\n",
    "print(div)\n",
    "print(even)"
   ]
  },
  {
   "cell_type": "code",
   "execution_count": 45,
   "id": "56683171",
   "metadata": {},
   "outputs": [
    {
     "name": "stdout",
     "output_type": "stream",
     "text": [
      "[5, 10, 15, 20, 15, 25, 30, 35, 40, 45, 50]\n"
     ]
    }
   ],
   "source": [
    "List = [1,2,3,4,3,5,6,7,8,9,10]\n",
    "mul = list(map(lambda x : x*5,List))\n",
    "print(mul)"
   ]
  },
  {
   "cell_type": "code",
   "execution_count": 46,
   "id": "6c1a8543",
   "metadata": {},
   "outputs": [
    {
     "name": "stdout",
     "output_type": "stream",
     "text": [
      "['apple', 'ball', 'cat', 'bus', 'air', 'zebra']\n"
     ]
    }
   ],
   "source": [
    "a = ['Apple','Ball','Cat','bus','air','zebra']\n",
    "mul = list(map(lambda x : x.lower(),a))\n",
    "print(mul)"
   ]
  },
  {
   "cell_type": "code",
   "execution_count": null,
   "id": "82239ed7",
   "metadata": {},
   "outputs": [],
   "source": []
  }
 ],
 "metadata": {
  "kernelspec": {
   "display_name": "Python 3 (ipykernel)",
   "language": "python",
   "name": "python3"
  },
  "language_info": {
   "codemirror_mode": {
    "name": "ipython",
    "version": 3
   },
   "file_extension": ".py",
   "mimetype": "text/x-python",
   "name": "python",
   "nbconvert_exporter": "python",
   "pygments_lexer": "ipython3",
   "version": "3.9.13"
  }
 },
 "nbformat": 4,
 "nbformat_minor": 5
}

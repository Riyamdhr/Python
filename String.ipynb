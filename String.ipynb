{
 "cells": [
  {
   "cell_type": "code",
   "execution_count": 1,
   "id": "a862fb9c",
   "metadata": {},
   "outputs": [],
   "source": [
    "#String is an data type. Also known as immutable data type\n",
    "#Can be represented with \" \"OR ' ' Or ''' '''\n",
    "#immutable means not changeable\n"
   ]
  },
  {
   "cell_type": "code",
   "execution_count": 2,
   "id": "5f1a77cd",
   "metadata": {},
   "outputs": [
    {
     "name": "stdout",
     "output_type": "stream",
     "text": [
      "<class 'str'>\n"
     ]
    }
   ],
   "source": [
    "a='Hello World'\n",
    "print(type(a))"
   ]
  },
  {
   "cell_type": "code",
   "execution_count": 7,
   "id": "1259d4ce",
   "metadata": {},
   "outputs": [
    {
     "name": "stdout",
     "output_type": "stream",
     "text": [
      "HelloWorld\n",
      "HelloHello\n"
     ]
    }
   ],
   "source": [
    "a='Hello'\n",
    "b='World'\n",
    "print(a+b)\n",
    "print(a*2)"
   ]
  },
  {
   "cell_type": "code",
   "execution_count": 20,
   "id": "fb91f135",
   "metadata": {},
   "outputs": [
    {
     "name": "stdout",
     "output_type": "stream",
     "text": [
      "e\n",
      "Hello\n",
      "HloWr\n",
      "dlroW olle\n"
     ]
    }
   ],
   "source": [
    "a='Hello World'\n",
    "print(a[1])\n",
    "print(a[0:5])\n",
    "print(a[0:10:2])\n",
    "print(a[10:0:-1])"
   ]
  },
  {
   "cell_type": "code",
   "execution_count": 22,
   "id": "1410bb9b",
   "metadata": {},
   "outputs": [
    {
     "name": "stdout",
     "output_type": "stream",
     "text": [
      "Hello World"
     ]
    }
   ],
   "source": [
    "a=\"Hello World\"\n",
    "l=len(a)\n",
    "for i in range(l):\n",
    "    print(a[i],end=\"\")"
   ]
  },
  {
   "cell_type": "code",
   "execution_count": 2,
   "id": "454a9277",
   "metadata": {},
   "outputs": [
    {
     "name": "stdout",
     "output_type": "stream",
     "text": [
      "Hello World"
     ]
    }
   ],
   "source": [
    "a=\"Hello World\"\n",
    "l=len(a)\n",
    "i=0\n",
    "while i<l:\n",
    "    print(a[i],end=\"\")\n",
    "    i+=1"
   ]
  },
  {
   "cell_type": "code",
   "execution_count": 3,
   "id": "f2f50a13",
   "metadata": {},
   "outputs": [],
   "source": [
    "#String Formatting\n"
   ]
  },
  {
   "cell_type": "code",
   "execution_count": 6,
   "id": "f5d3b833",
   "metadata": {},
   "outputs": [
    {
     "name": "stdout",
     "output_type": "stream",
     "text": [
      "Enter name= abc\n",
      "Enter age= 54\n",
      "Enter address= 34fjksng\n",
      "Hello World, I am abc. I am from 34fjksng and my age is 54.\n"
     ]
    }
   ],
   "source": [
    "name=input('Enter name= ')\n",
    "age = int(input('Enter age= '))\n",
    "address = input('Enter address= ')\n",
    "#info = \"I am\",name,\". My age is\",age,\"\"\n",
    "#-->string formatting\n",
    "info = f\"Hello World, I am {name}. I am from {address} and my age is {age}.\" \n",
    "print(info)"
   ]
  },
  {
   "cell_type": "code",
   "execution_count": 10,
   "id": "940c7e11",
   "metadata": {},
   "outputs": [
    {
     "name": "stdout",
     "output_type": "stream",
     "text": [
      "Enter n= 2\n",
      "Enter product name= abcd\n",
      "Enter price= 3\n",
      "Enter quantity= 43\n",
      "Enter product name= rty\n",
      "Enter price= 2\n",
      "Enter quantity= 34\n",
      "Name price quantity total\n",
      "abcd 3 43 129\n",
      "rty 2 34 68\n",
      "\n"
     ]
    }
   ],
   "source": [
    "info=str()\n",
    "n = int(input('Enter n= '))\n",
    "for i in range(n):\n",
    "    name=input('Enter product name= ')\n",
    "    price = int(input('Enter price= '))\n",
    "    quantity = int(input('Enter quantity= '))\n",
    "    total = price*quantity\n",
    "    info = info+ f\"{name} {price} {quantity} {total}\\n\"\n",
    "\n",
    "print(info)\n",
    "    "
   ]
  },
  {
   "cell_type": "code",
   "execution_count": 12,
   "id": "42017d13",
   "metadata": {},
   "outputs": [
    {
     "name": "stdout",
     "output_type": "stream",
     "text": [
      "yes\n",
      "1\n",
      "RAM SHYAM HARI SITA GITA SITA\n",
      "ram shyam hari sita gita sita\n"
     ]
    }
   ],
   "source": [
    "a=\"Ram Shyam Hari Sita Gita Sita\"\n",
    "if \"Ram\" in a:\n",
    "    print(\"yes\")\n",
    "    print(a.count(\"Ram\"))\n",
    "else:\n",
    "    print(\"No\")\n",
    "print(a.upper())\n",
    "print(a.lower())"
   ]
  },
  {
   "cell_type": "code",
   "execution_count": 15,
   "id": "3e9c047a",
   "metadata": {},
   "outputs": [
    {
     "name": "stdout",
     "output_type": "stream",
     "text": [
      "Enter name = ram\n",
      "yes\n",
      "1\n"
     ]
    }
   ],
   "source": [
    "a=\"Ram Shyam Hari Sita Gita Sita\".lower()\n",
    "name= input(\"Enter name = \").lower()\n",
    "if name in a:\n",
    "    print(\"yes\")\n",
    "    print(a.count(name))\n",
    "else:\n",
    "    print(\"No\")"
   ]
  },
  {
   "cell_type": "code",
   "execution_count": 16,
   "id": "3415e6d6",
   "metadata": {},
   "outputs": [
    {
     "name": "stdout",
     "output_type": "stream",
     "text": [
      "Ram Shyam Hari Sita Gita Sita\n"
     ]
    }
   ],
   "source": [
    "#We cant append but can replace\n",
    "a=\"Ram Shyam Hari Sita Gita Sita\"\n",
    "a.replace(\"Ram\",\"Krishna\")  #It replaces the name  but doesnt replace in original varialble i.e a\n",
    "print(a)"
   ]
  },
  {
   "cell_type": "code",
   "execution_count": 20,
   "id": "edaf5742",
   "metadata": {},
   "outputs": [
    {
     "name": "stdout",
     "output_type": "stream",
     "text": [
      "Ram Shyam Hari Krishna Gita Krishna\n"
     ]
    }
   ],
   "source": [
    "a=\"Ram Shyam Hari Sita Gita Sita\"\n",
    "a = a.replace(\"Sita\",\"Krishna\") \n",
    "print(a)\n"
   ]
  },
  {
   "cell_type": "code",
   "execution_count": null,
   "id": "5eaf91c4",
   "metadata": {},
   "outputs": [],
   "source": []
  }
 ],
 "metadata": {
  "kernelspec": {
   "display_name": "Python 3 (ipykernel)",
   "language": "python",
   "name": "python3"
  },
  "language_info": {
   "codemirror_mode": {
    "name": "ipython",
    "version": 3
   },
   "file_extension": ".py",
   "mimetype": "text/x-python",
   "name": "python",
   "nbconvert_exporter": "python",
   "pygments_lexer": "ipython3",
   "version": "3.9.13"
  }
 },
 "nbformat": 4,
 "nbformat_minor": 5
}

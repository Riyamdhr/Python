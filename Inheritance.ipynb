{
 "cells": [
  {
   "cell_type": "code",
   "execution_count": 1,
   "id": "c3f05030",
   "metadata": {},
   "outputs": [],
   "source": [
    "# class A:\n",
    "#     <method>\n",
    "    \n",
    "# class B(A):\n",
    "#     <METHODS>\n",
    "    \n",
    "# c = B()"
   ]
  },
  {
   "cell_type": "code",
   "execution_count": 3,
   "id": "32530b74",
   "metadata": {},
   "outputs": [
    {
     "name": "stdout",
     "output_type": "stream",
     "text": [
      "Enter name = riya \n",
      "Enter age = 22\n",
      "Enter address = kathmandi\n",
      "Hello World. I am riya . I am from kathmandi and i am 22 years old\n",
      "riya  22 kathmandi\n"
     ]
    }
   ],
   "source": [
    "class Data:\n",
    "    def __init__(self):\n",
    "        self.name = input('Enter name = ')\n",
    "        self.age = int(input('Enter age = '))\n",
    "        self.add = input('Enter address = ')\n",
    "        \n",
    "class Info(Data):\n",
    "    def info(self):\n",
    "        print(f'Hello World. I am {self.name}. I am from {self.add} and i am {self.age} years old')\n",
    "obj = Info()\n",
    "obj.info()\n",
    "print(obj.name,obj.age,obj.add)"
   ]
  },
  {
   "cell_type": "code",
   "execution_count": 5,
   "id": "7e25fa10",
   "metadata": {},
   "outputs": [
    {
     "name": "stdout",
     "output_type": "stream",
     "text": [
      "Enter name = riya\n",
      "Enter age = 22\n",
      "Enter address = kathmandu\n",
      "Hello World. I am riya. I am from kathmandu and i am 22 years old\n",
      "riya 22 kathmandu\n"
     ]
    }
   ],
   "source": [
    "class Data:\n",
    "    def __init__(self,name,age,add):\n",
    "        self.name = name\n",
    "        self.age = age\n",
    "        self.add = add\n",
    "        \n",
    "class Info(Data):\n",
    "    def info(self):\n",
    "        print(f'Hello World. I am {self.name}. I am from {self.add} and i am {self.age} years old')\n",
    "name = input('Enter name = ')\n",
    "age = int(input('Enter age = '))\n",
    "add = input('Enter address = ')\n",
    "obj = Info(name,age,add)\n",
    "obj.info()\n",
    "print(obj.name,obj.age,obj.add)"
   ]
  },
  {
   "cell_type": "code",
   "execution_count": 7,
   "id": "77ecda23",
   "metadata": {},
   "outputs": [
    {
     "name": "stdout",
     "output_type": "stream",
     "text": [
      "Enter name = riya\n",
      "Enter age = 22\n",
      "Enter address = kathmandu\n",
      "Hello World. I am riya. I am from kathmandu and i am 22 years old\n",
      "riya 22 kathmandu\n"
     ]
    }
   ],
   "source": [
    "class Data:\n",
    "    def __init__(self,name,age,add):\n",
    "        self.name = name\n",
    "        self.age = age\n",
    "        self.add = add\n",
    "        \n",
    "    def data(self):\n",
    "        print(self.name,self.age,self.add)\n",
    "        \n",
    "class Info(Data):\n",
    "    def info(self):\n",
    "        print(f'Hello World. I am {self.name}. I am from {self.add} and i am {self.age} years old')\n",
    "name = input('Enter name = ')\n",
    "age = int(input('Enter age = '))\n",
    "add = input('Enter address = ')\n",
    "obj = Info(name,age,add)\n",
    "obj.info()\n",
    "obj.data()\n"
   ]
  },
  {
   "cell_type": "code",
   "execution_count": 11,
   "id": "9977e102",
   "metadata": {},
   "outputs": [
    {
     "name": "stdout",
     "output_type": "stream",
     "text": [
      "Enter name = riya \n",
      "Enter age = 22\n",
      "Enter address = kathmandu\n",
      "Hello World. I am riya . I am from kathmandu and i am 22 years old\n",
      "riya  22 kathmandu\n"
     ]
    }
   ],
   "source": [
    "class Data:\n",
    "    def __init__(self,age,add):\n",
    "        self.age = age\n",
    "        self.add = add\n",
    "        \n",
    "    def data(self):\n",
    "        print(self.name,self.age,self.add)\n",
    "        \n",
    "class Info(Data):\n",
    "    def __init__(self,name,age,add):\n",
    "        self.name = name\n",
    "        Data.__init__(self,age,add)\n",
    "            \n",
    "    def info(self):\n",
    "        print(f'Hello World. I am {self.name}. I am from {self.add} and i am {self.age} years old')\n",
    "name = input('Enter name = ')\n",
    "age = int(input('Enter age = '))\n",
    "add = input('Enter address = ')\n",
    "\n",
    "obj = Info(name,age,add)\n",
    "obj.info()\n",
    "obj.data()\n"
   ]
  },
  {
   "cell_type": "code",
   "execution_count": 12,
   "id": "8ccc8225",
   "metadata": {},
   "outputs": [],
   "source": [
    "#Multilevel\n",
    "class A:\n",
    "    pass\n",
    "class B(A):\n",
    "    pass\n",
    "class C(B):\n",
    "    pass\n",
    "\n",
    "obj =C()\n"
   ]
  },
  {
   "cell_type": "code",
   "execution_count": 13,
   "id": "fd3b5cf2",
   "metadata": {},
   "outputs": [],
   "source": [
    "#Multiclass\n",
    "class A:\n",
    "    pass\n",
    "class B():\n",
    "    pass\n",
    "class C(A,B):\n",
    "    pass\n",
    "\n",
    "obj =C()\n"
   ]
  },
  {
   "cell_type": "code",
   "execution_count": 14,
   "id": "cd29eddf",
   "metadata": {},
   "outputs": [
    {
     "name": "stdout",
     "output_type": "stream",
     "text": [
      "Enter name = riya\n",
      "Enter age = 22\n",
      "Enter address = kathmandu\n",
      "Hello World. I am riya. I am from kathmandu and i am 22 years old\n",
      "riya 22 kathmandu\n"
     ]
    }
   ],
   "source": [
    "#Multilevel\n",
    "\n",
    "class Address:\n",
    "    def __init__(self,add):\n",
    "        self.add = add\n",
    "    def address(self):\n",
    "        print(self.add)\n",
    "    \n",
    "class Age(Address):\n",
    "    def __init__(self,age,add):\n",
    "        self.age = age\n",
    "        Address.add = add\n",
    "        \n",
    "    def data(self):\n",
    "        print(self.name,self.age,self.add)\n",
    "        \n",
    "class Name(Age):\n",
    "    def __init__(self,name,age,add):\n",
    "        self.name = name\n",
    "        Age.__init__(self,age,add)\n",
    "            \n",
    "    def info(self):\n",
    "        print(f'Hello World. I am {self.name}. I am from {self.add} and i am {self.age} years old')\n",
    "name = input('Enter name = ')\n",
    "age = int(input('Enter age = '))\n",
    "add = input('Enter address = ')\n",
    "\n",
    "obj = Name(name,age,add)\n",
    "obj.info()\n",
    "obj.data()\n"
   ]
  },
  {
   "cell_type": "code",
   "execution_count": 17,
   "id": "d189aa43",
   "metadata": {},
   "outputs": [
    {
     "name": "stdout",
     "output_type": "stream",
     "text": [
      "Enter name = riya\n",
      "Enter age = 22\n",
      "Enter address = kathmandu\n",
      "Hello World. I am riya. I am from kathmandu and i am 22 years old\n",
      "riya 22 kathmandu\n"
     ]
    }
   ],
   "source": [
    "#Multiclass\n",
    "\n",
    "class Address:\n",
    "    def __init__(self,add):\n",
    "        self.add = add\n",
    "    def address(self):\n",
    "        print(self.add)\n",
    "    \n",
    "class Age:\n",
    "    def __init__(self,age):\n",
    "        self.age = age\n",
    "        \n",
    "    def data(self):\n",
    "        print(self.name,self.age)\n",
    "        \n",
    "class Name(Age,Address):\n",
    "    def __init__(self,name,age,add):\n",
    "        self.name = name\n",
    "        Age.__init__(self,age)\n",
    "        Address.__init__(self,add)\n",
    "            \n",
    "    def info(self):\n",
    "        print(f'Hello World. I am {self.name}. I am from {self.add} and i am {self.age} years old')\n",
    "name = input('Enter name = ')\n",
    "age = int(input('Enter age = '))\n",
    "add = input('Enter address = ')\n",
    "\n",
    "obj = Name(name,age,add)\n",
    "obj.info()\n",
    "obj.data()\n"
   ]
  },
  {
   "cell_type": "code",
   "execution_count": 18,
   "id": "a61da42a",
   "metadata": {},
   "outputs": [],
   "source": [
    "# private attributes have _*2 i.e__\n",
    "# protected have 1*_ "
   ]
  },
  {
   "cell_type": "code",
   "execution_count": 19,
   "id": "9ac48bb3",
   "metadata": {},
   "outputs": [
    {
     "name": "stdout",
     "output_type": "stream",
     "text": [
      "Enter name = riya\n",
      "Enter age = 22\n",
      "Enter address = kathmandu\n",
      "Hello World. I am riya. I am 22 years old\n",
      "riya 22 kathmandu\n",
      "riya\n"
     ]
    }
   ],
   "source": [
    "class Data:\n",
    "    def __init__(self,name,age,add):\n",
    "        self.name = name                #public\n",
    "        self._age = age                 #protected\n",
    "        self.__add = add                #private\n",
    "        \n",
    "    def data(self):\n",
    "        print(self.name,self._age,self.__add)\n",
    "        \n",
    "class Info(Data):\n",
    "    def info(self):\n",
    "        print(f'Hello World. I am {self.name}. I am {self._age} years old')\n",
    "name = input('Enter name = ')\n",
    "age = int(input('Enter age = '))\n",
    "add = input('Enter address = ')\n",
    "obj = Info(name,age,add)\n",
    "obj.info()\n",
    "obj.data()\n",
    "print(obj.name)\n",
    "#print(obj.age)\n",
    "#print(obj.__add)"
   ]
  },
  {
   "cell_type": "code",
   "execution_count": null,
   "id": "ef0bb3aa",
   "metadata": {},
   "outputs": [],
   "source": []
  }
 ],
 "metadata": {
  "kernelspec": {
   "display_name": "Python 3 (ipykernel)",
   "language": "python",
   "name": "python3"
  },
  "language_info": {
   "codemirror_mode": {
    "name": "ipython",
    "version": 3
   },
   "file_extension": ".py",
   "mimetype": "text/x-python",
   "name": "python",
   "nbconvert_exporter": "python",
   "pygments_lexer": "ipython3",
   "version": "3.9.13"
  }
 },
 "nbformat": 4,
 "nbformat_minor": 5
}

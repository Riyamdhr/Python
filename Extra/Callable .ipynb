{
 "cells": [
  {
   "cell_type": "code",
   "execution_count": null,
   "id": "aa5123f2",
   "metadata": {},
   "outputs": [],
   "source": [
    "# --> Function Classes are callable \n",
    "# --> instances of class can be turned into callable\n",
    "# --> built in function \n",
    "# --> callable(python_object)\n",
    "# --> returns bollean value\n",
    "\n"
   ]
  },
  {
   "cell_type": "code",
   "execution_count": 3,
   "id": "49ca9a93",
   "metadata": {},
   "outputs": [
    {
     "data": {
      "text/plain": [
       "False"
      ]
     },
     "execution_count": 3,
     "metadata": {},
     "output_type": "execute_result"
    }
   ],
   "source": [
    "callable('Hello')"
   ]
  },
  {
   "cell_type": "code",
   "execution_count": 2,
   "id": "714301eb",
   "metadata": {},
   "outputs": [
    {
     "data": {
      "text/plain": [
       "True"
      ]
     },
     "execution_count": 2,
     "metadata": {},
     "output_type": "execute_result"
    }
   ],
   "source": [
    "# Since type is an class so type can be callable but not the string.\n",
    "callable(type('Hello'))"
   ]
  },
  {
   "cell_type": "code",
   "execution_count": 4,
   "id": "1914d1c0",
   "metadata": {},
   "outputs": [
    {
     "name": "stdout",
     "output_type": "stream",
     "text": [
      "Person's age: True\n",
      "Person's salary: False\n"
     ]
    }
   ],
   "source": [
    "# -> hasattr() : hasattr method returns true if an object has given name attributes\n",
    "# -> syntax : hasattr(object, name)\n",
    "#---------------------------------------------------------------------------------------------------------------------------\n",
    "class Person:\n",
    "    age = 23\n",
    "    name = \"Adam\"\n",
    "\n",
    "person = Person()\n",
    "\n",
    "print(\"Person's age:\", hasattr(person, \"age\"))\n",
    "print(\"Person's salary:\", hasattr(person, \"salary\"))\n",
    "\n",
    "# Output:\n",
    "# Person's age: True\n",
    "# Person's salary: False"
   ]
  },
  {
   "cell_type": "code",
   "execution_count": 9,
   "id": "44ca9f20",
   "metadata": {},
   "outputs": [
    {
     "name": "stdout",
     "output_type": "stream",
     "text": [
      "True\n",
      "True\n",
      "False\n",
      "False\n"
     ]
    }
   ],
   "source": [
    "# Every built in function has its own __call__ method\n",
    "print(hasattr(bool,'__call__'))\n",
    "print(hasattr(dict,'__call__'))\n",
    "print(hasattr({},'__call__'))\n",
    "print(hasattr([],'__call__'))"
   ]
  },
  {
   "cell_type": "code",
   "execution_count": 11,
   "id": "df55f4a2",
   "metadata": {},
   "outputs": [
    {
     "name": "stdout",
     "output_type": "stream",
     "text": [
      "30\n"
     ]
    }
   ],
   "source": [
    "def add(a,b):\n",
    "    return a+b\n",
    "\n",
    "print(add.__call__(10,20)) #__call__ function is defined eithin built in function add\n"
   ]
  },
  {
   "cell_type": "code",
   "execution_count": 14,
   "id": "194ab5fa",
   "metadata": {},
   "outputs": [
    {
     "name": "stdout",
     "output_type": "stream",
     "text": [
      "True\n",
      "False\n"
     ]
    }
   ],
   "source": [
    "class Add(object):\n",
    "    def __init__(self,a,b):\n",
    "        self.a = a\n",
    "        self.b = b\n",
    "a1 = Add(10,20)\n",
    "print(callable(Add))\n",
    "print(callable(a1)) # object of any classes aren't callable"
   ]
  },
  {
   "cell_type": "code",
   "execution_count": 15,
   "id": "08e55452",
   "metadata": {},
   "outputs": [
    {
     "name": "stdout",
     "output_type": "stream",
     "text": [
      "True\n",
      "True\n"
     ]
    }
   ],
   "source": [
    "#to make a1 object callable \n",
    "class Add(object):\n",
    "    def __init__(self,a,b):\n",
    "        self.a = a\n",
    "        self.b = b\n",
    "    def __call__(self):\n",
    "        pass\n",
    "a1 = Add(10,20)\n",
    "print(callable(Add))\n",
    "print(callable(a1)) "
   ]
  },
  {
   "cell_type": "code",
   "execution_count": 25,
   "id": "12fd7450",
   "metadata": {},
   "outputs": [
    {
     "name": "stdout",
     "output_type": "stream",
     "text": [
      "30\n",
      "True\n"
     ]
    }
   ],
   "source": [
    "#to make a1 object callable \n",
    "class Add(object):\n",
    "    def __init__(self,a,b):\n",
    "        self.a = a\n",
    "        self.b = b\n",
    "    def __call__(self,a,b):\n",
    "        return a+b\n",
    "a1 = Add(10,50)\n",
    "print(a1(10,20))              #=> a1.__call__()\n",
    "print(callable(a1)) "
   ]
  },
  {
   "cell_type": "code",
   "execution_count": null,
   "id": "da7eac82",
   "metadata": {},
   "outputs": [],
   "source": []
  }
 ],
 "metadata": {
  "kernelspec": {
   "display_name": "Python 3 (ipykernel)",
   "language": "python",
   "name": "python3"
  },
  "language_info": {
   "codemirror_mode": {
    "name": "ipython",
    "version": 3
   },
   "file_extension": ".py",
   "mimetype": "text/x-python",
   "name": "python",
   "nbconvert_exporter": "python",
   "pygments_lexer": "ipython3",
   "version": "3.9.13"
  }
 },
 "nbformat": 4,
 "nbformat_minor": 5
}

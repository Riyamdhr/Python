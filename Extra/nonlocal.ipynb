{
 "cells": [
  {
   "cell_type": "code",
   "execution_count": 4,
   "id": "6217997a",
   "metadata": {},
   "outputs": [
    {
     "name": "stdout",
     "output_type": "stream",
     "text": [
      "Hello b\n"
     ]
    }
   ],
   "source": [
    "def a():\n",
    "    data = ''\n",
    "    def b():\n",
    "        nonlocal data\n",
    "        data = 'Hello b'\n",
    "        pront(data)\n",
    "    b()\n",
    "    print(data)\n",
    "a()\n"
   ]
  },
  {
   "cell_type": "code",
   "execution_count": null,
   "id": "bd83ecc0",
   "metadata": {},
   "outputs": [],
   "source": [
    "# function a also need to use same value present in nested function at that time we use non local data \n",
    "# this data cant be used out in outside the function"
   ]
  }
 ],
 "metadata": {
  "kernelspec": {
   "display_name": "Python 3 (ipykernel)",
   "language": "python",
   "name": "python3"
  },
  "language_info": {
   "codemirror_mode": {
    "name": "ipython",
    "version": 3
   },
   "file_extension": ".py",
   "mimetype": "text/x-python",
   "name": "python",
   "nbconvert_exporter": "python",
   "pygments_lexer": "ipython3",
   "version": "3.9.13"
  }
 },
 "nbformat": 4,
 "nbformat_minor": 5
}

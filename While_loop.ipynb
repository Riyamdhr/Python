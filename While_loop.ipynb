{
 "cells": [
  {
   "cell_type": "code",
   "execution_count": 2,
   "id": "321650da",
   "metadata": {},
   "outputs": [],
   "source": [
    "# syntax:\n",
    "# while<condition>:\n",
    "#     <operation>\n",
    "    \n",
    "    "
   ]
  },
  {
   "cell_type": "code",
   "execution_count": 5,
   "id": "9fa8ce99",
   "metadata": {},
   "outputs": [],
   "source": [
    "# c = 0\n",
    "# while(True):\n",
    "#     print(c)\n",
    "#     c=c+1\n",
    "#Output is infinite\n",
    "\n",
    "\n",
    "    "
   ]
  },
  {
   "cell_type": "code",
   "execution_count": 3,
   "id": "ac9e591f",
   "metadata": {},
   "outputs": [
    {
     "name": "stdout",
     "output_type": "stream",
     "text": [
      "0\n",
      "1\n",
      "2\n",
      "3\n",
      "4\n",
      "5\n"
     ]
    }
   ],
   "source": [
    "i=0\n",
    "while i<=5:\n",
    "    print(i)\n",
    "    i+=1"
   ]
  },
  {
   "cell_type": "code",
   "execution_count": 4,
   "id": "a74f8990",
   "metadata": {},
   "outputs": [
    {
     "name": "stdout",
     "output_type": "stream",
     "text": [
      "enter n= 2\n",
      "enter name = abc\n",
      "enter phone = 456\n",
      "enter name = rty\n",
      "enter phone = 567\n",
      "enter name = hfjf\n",
      "enter phone = 345\n",
      "abc 456\n",
      "rty 567\n",
      "hfjf 345\n",
      "\n"
     ]
    }
   ],
   "source": [
    "\n",
    "i=0\n",
    "s=str()\n",
    "n = int(input(\"enter n= \"))\n",
    "while i<=n:\n",
    "    name =input(\"enter name = \")\n",
    "    phone =input(\"enter phone = \")\n",
    "    s=s+name+\" \"+phone+\"\\n\"\n",
    "    i=i+1\n",
    "print(s)\n",
    "    \n",
    "    "
   ]
  },
  {
   "cell_type": "code",
   "execution_count": 1,
   "id": "1ab7c7e9",
   "metadata": {},
   "outputs": [
    {
     "name": "stdout",
     "output_type": "stream",
     "text": [
      "Enter Number= 4\n",
      "factorial of 4 is 24\n"
     ]
    }
   ],
   "source": [
    "i=1\n",
    "fact=1\n",
    "n=int(input(\"Enter Number= \"))\n",
    "#for i in range(n):\n",
    "while i<=n:\n",
    "    fact=fact*i\n",
    "    i+=1\n",
    "print(\"factorial of\",n,\"is\",fact)\n",
    "    "
   ]
  },
  {
   "cell_type": "code",
   "execution_count": 2,
   "id": "643fe114",
   "metadata": {},
   "outputs": [
    {
     "name": "stdout",
     "output_type": "stream",
     "text": [
      "Hello World\n"
     ]
    }
   ],
   "source": [
    "#while also works as if else condition too\n",
    "while True:\n",
    "    print(\"Hello World\")\n",
    "    break"
   ]
  },
  {
   "cell_type": "code",
   "execution_count": 7,
   "id": "cf923ab2",
   "metadata": {},
   "outputs": [
    {
     "name": "stdout",
     "output_type": "stream",
     "text": [
      "0\n",
      "1\n",
      "2\n",
      "4\n",
      "5\n"
     ]
    }
   ],
   "source": [
    "i=0\n",
    "while i<=5:\n",
    "    if i==3:\n",
    "        i+=1\n",
    "        continue\n",
    "    else:\n",
    "        print(i)\n",
    "        i+=1\n",
    "        "
   ]
  }
 ],
 "metadata": {
  "kernelspec": {
   "display_name": "Python 3 (ipykernel)",
   "language": "python",
   "name": "python3"
  },
  "language_info": {
   "codemirror_mode": {
    "name": "ipython",
    "version": 3
   },
   "file_extension": ".py",
   "mimetype": "text/x-python",
   "name": "python",
   "nbconvert_exporter": "python",
   "pygments_lexer": "ipython3",
   "version": "3.9.13"
  }
 },
 "nbformat": 4,
 "nbformat_minor": 5
}

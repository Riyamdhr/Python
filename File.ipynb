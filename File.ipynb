{
 "cells": [
  {
   "cell_type": "code",
   "execution_count": 1,
   "id": "79111e48",
   "metadata": {},
   "outputs": [],
   "source": [
    "# File\n",
    "# .csv\n",
    "# .txt\n"
   ]
  },
  {
   "cell_type": "code",
   "execution_count": 2,
   "id": "fec01dab",
   "metadata": {},
   "outputs": [],
   "source": [
    "# file = open('<file_name>','<mode>')\n",
    "# file.close()\n",
    "\n",
    "\n",
    "# with open('<file_name>','<mode>') as file:    -->file is an object here\n",
    "#     <operations>"
   ]
  },
  {
   "cell_type": "code",
   "execution_count": 3,
   "id": "3154ab0d",
   "metadata": {},
   "outputs": [],
   "source": [
    "# mode\n",
    "# r -> read               --> split()\n",
    "# a -> append\n",
    "# x -> create\n",
    "# w -> write\n"
   ]
  },
  {
   "cell_type": "code",
   "execution_count": 6,
   "id": "14c5b6a3",
   "metadata": {},
   "outputs": [
    {
     "name": "stdout",
     "output_type": "stream",
     "text": [
      "The file is already there....\n"
     ]
    }
   ],
   "source": [
    "try:\n",
    "    file = open('new_file.txt','x')\n",
    "    file.close()\n",
    "except:\n",
    "    print('The file is already there....')\n",
    "    "
   ]
  },
  {
   "cell_type": "code",
   "execution_count": 9,
   "id": "82e5e03a",
   "metadata": {},
   "outputs": [
    {
     "name": "stdout",
     "output_type": "stream",
     "text": [
      "The file is already there....\n"
     ]
    }
   ],
   "source": [
    "try:\n",
    "    file = open('new_file.docx','x')\n",
    "    file.close()\n",
    "except:\n",
    "    print('The file is already there....')\n",
    "    "
   ]
  },
  {
   "cell_type": "code",
   "execution_count": 12,
   "id": "3658aa43",
   "metadata": {},
   "outputs": [
    {
     "name": "stdout",
     "output_type": "stream",
     "text": [
      "1. Hello World\n",
      "2. Hello World\n",
      "3. Hello World\n",
      "4. Hello World\n",
      "5. Hello World\n",
      "<class 'str'>\n"
     ]
    }
   ],
   "source": [
    "try:\n",
    "    file = open('new_file.txt','r')\n",
    "    x = file.read()\n",
    "    print(x)\n",
    "    print(type(x))\n",
    "    file.close()\n",
    "except:\n",
    "    print('The file is already there....')\n",
    "    "
   ]
  },
  {
   "cell_type": "code",
   "execution_count": 13,
   "id": "48df434e",
   "metadata": {},
   "outputs": [
    {
     "data": {
      "text/plain": [
       "'1. Hello World\\n2. Hello World\\n3. Hello World\\n4. Hello World\\n5. Hello World'"
      ]
     },
     "execution_count": 13,
     "metadata": {},
     "output_type": "execute_result"
    }
   ],
   "source": [
    "x"
   ]
  },
  {
   "cell_type": "code",
   "execution_count": 15,
   "id": "667ee972",
   "metadata": {},
   "outputs": [
    {
     "data": {
      "text/plain": [
       "['1. Hello World',\n",
       " '2. Hello World',\n",
       " '3. Hello World',\n",
       " '4. Hello World',\n",
       " '5. Hello World']"
      ]
     },
     "execution_count": 15,
     "metadata": {},
     "output_type": "execute_result"
    }
   ],
   "source": [
    "x.split('\\n')"
   ]
  },
  {
   "cell_type": "code",
   "execution_count": 16,
   "id": "cb7d3114",
   "metadata": {},
   "outputs": [
    {
     "data": {
      "text/plain": [
       "'1. Hello World'"
      ]
     },
     "execution_count": 16,
     "metadata": {},
     "output_type": "execute_result"
    }
   ],
   "source": [
    "x.split('\\n')[0]"
   ]
  },
  {
   "cell_type": "code",
   "execution_count": 17,
   "id": "4227f3b6",
   "metadata": {},
   "outputs": [
    {
     "data": {
      "text/plain": [
       "'2. Hello World'"
      ]
     },
     "execution_count": 17,
     "metadata": {},
     "output_type": "execute_result"
    }
   ],
   "source": [
    "x.split('\\n')[1]"
   ]
  },
  {
   "cell_type": "code",
   "execution_count": 18,
   "id": "96dec065",
   "metadata": {},
   "outputs": [],
   "source": [
    "# -> append =>add garna \n",
    "# -> write => overwrite garna \n"
   ]
  },
  {
   "cell_type": "code",
   "execution_count": 19,
   "id": "bc972146",
   "metadata": {},
   "outputs": [],
   "source": [
    "with open('data.txt','w') as file:\n",
    "    file.write('Hello World. I am Python')"
   ]
  },
  {
   "cell_type": "code",
   "execution_count": 20,
   "id": "96ec2954",
   "metadata": {},
   "outputs": [],
   "source": [
    "with open('data.txt','w') as file:\n",
    "    file.write('Hello World. I am Python:')"
   ]
  },
  {
   "cell_type": "code",
   "execution_count": 22,
   "id": "6a2f46bb",
   "metadata": {},
   "outputs": [],
   "source": [
    "with open('data.txt','a') as file:\n",
    "    file.write('\\n Hiii!!! I am Python too.')"
   ]
  },
  {
   "cell_type": "code",
   "execution_count": 31,
   "id": "7647e8d7",
   "metadata": {},
   "outputs": [
    {
     "name": "stdout",
     "output_type": "stream",
     "text": [
      "Enter n= 2\n",
      "Enter product name= qwertt\n",
      "Enter price= 1233\n",
      "Enter quantity= 1\n",
      "Enter product name= asdfg\n",
      "Enter price= 543\n",
      "Enter quantity= 2\n",
      "\n",
      "\n",
      "qwertt 1233 1 1233\n",
      "asdfg 543 2 1086\n",
      "\n"
     ]
    }
   ],
   "source": [
    "info=str()\n",
    "n = int(input('Enter n= '))\n",
    "for i in range(n):\n",
    "    name=input('Enter product name= ')\n",
    "    price = int(input('Enter price= '))\n",
    "    quantity = int(input('Enter quantity= '))\n",
    "    total = price*quantity\n",
    "    info = info+ f\"{name} {price} {quantity} {total}\\n\"\n",
    "\n",
    "print(info)\n",
    "with open('data.txt','a') as file:\n",
    "    file.write(info)"
   ]
  },
  {
   "cell_type": "code",
   "execution_count": 55,
   "id": "c1ccf1d1",
   "metadata": {},
   "outputs": [
    {
     "name": "stdout",
     "output_type": "stream",
     "text": [
      "['asd 100 2 200', 'awer 150 2 300', 'qwertt 1233 1 1233', 'asdfg 543 2 1086', '']\n"
     ]
    }
   ],
   "source": [
    "with open('data.txt','r') as file:\n",
    "    x = file.read()\n",
    "    \n",
    "    print(x.split('\\n'))"
   ]
  },
  {
   "cell_type": "code",
   "execution_count": 56,
   "id": "cbeb54bc",
   "metadata": {},
   "outputs": [],
   "source": [
    "data = x.split('\\n')[0:-1]"
   ]
  },
  {
   "cell_type": "code",
   "execution_count": 57,
   "id": "1c902471",
   "metadata": {},
   "outputs": [
    {
     "name": "stdout",
     "output_type": "stream",
     "text": [
      "[['asd', '100', '2', '200'], ['awer', '150', '2', '300'], ['qwertt', '1233', '1', '1233'], ['asdfg', '543', '2', '1086']]\n"
     ]
    }
   ],
   "source": [
    "new_data = []\n",
    "for i in data:\n",
    "    new_data.append(i.split())\n",
    "print(new_data)"
   ]
  },
  {
   "cell_type": "code",
   "execution_count": 58,
   "id": "f36e6e5e",
   "metadata": {},
   "outputs": [
    {
     "name": "stdout",
     "output_type": "stream",
     "text": [
      "2819\n"
     ]
    }
   ],
   "source": [
    "all_total = 0\n",
    "for cal in new_data:\n",
    "    all_total = all_total+int(cal[3])\n",
    "    \n",
    "print(all_total)"
   ]
  },
  {
   "cell_type": "code",
   "execution_count": null,
   "id": "f5d0ffb4",
   "metadata": {},
   "outputs": [],
   "source": []
  }
 ],
 "metadata": {
  "kernelspec": {
   "display_name": "Python 3 (ipykernel)",
   "language": "python",
   "name": "python3"
  },
  "language_info": {
   "codemirror_mode": {
    "name": "ipython",
    "version": 3
   },
   "file_extension": ".py",
   "mimetype": "text/x-python",
   "name": "python",
   "nbconvert_exporter": "python",
   "pygments_lexer": "ipython3",
   "version": "3.9.13"
  }
 },
 "nbformat": 4,
 "nbformat_minor": 5
}

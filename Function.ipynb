{
 "cells": [
  {
   "cell_type": "code",
   "execution_count": 1,
   "id": "3901736b",
   "metadata": {},
   "outputs": [],
   "source": [
    "# user defined function\n",
    "# def <function name> ():\n",
    "#     <operation>\n",
    "    \n",
    "# <function_name>()\n",
    "\n",
    "#argument\n",
    "#return value\n",
    "    \n",
    "    "
   ]
  },
  {
   "cell_type": "code",
   "execution_count": 2,
   "id": "3d920696",
   "metadata": {},
   "outputs": [
    {
     "name": "stdout",
     "output_type": "stream",
     "text": [
      "Hello world\n"
     ]
    }
   ],
   "source": [
    "def hello():\n",
    "    print('Hello world')\n",
    "hello()"
   ]
  },
  {
   "cell_type": "code",
   "execution_count": 3,
   "id": "a0f30ce5",
   "metadata": {},
   "outputs": [
    {
     "name": "stdout",
     "output_type": "stream",
     "text": [
      "Enter p = 100\n",
      "Enter time = 23\n",
      "Enter rate = 23.4\n",
      "538.2\n"
     ]
    }
   ],
   "source": [
    "def cal():\n",
    "    p =  int(input('Enter p = '))    #local variable\n",
    "    t = float(input('Enter time = '))     #local variable \n",
    "    r = float(input('Enter rate = '))      #local variable\n",
    "    i=p*t*r/100\n",
    "    print(i)\n",
    "    \n",
    "cal()"
   ]
  },
  {
   "cell_type": "code",
   "execution_count": 4,
   "id": "ed10db1d",
   "metadata": {},
   "outputs": [
    {
     "name": "stdout",
     "output_type": "stream",
     "text": [
      "Enter p = 100\n",
      "Enter time = 23\n",
      "Enter rate = 12.3\n",
      "282.9\n"
     ]
    }
   ],
   "source": [
    "def cal():\n",
    "    i=p*t*r/100              #local variable\n",
    "    print(i)\n",
    "    \n",
    "    \n",
    "p =  int(input('Enter p = '))         #global variable\n",
    "t = float(input('Enter time = '))     #global variable \n",
    "r = float(input('Enter rate = '))      #global variable\n",
    "\n",
    "cal()"
   ]
  },
  {
   "cell_type": "code",
   "execution_count": null,
   "id": "6e168dc9",
   "metadata": {},
   "outputs": [],
   "source": [
    "# function with argument and no return type\n",
    "# function without argument and no return type\n",
    "# function with argument and return type\n",
    "# function without argument and return type"
   ]
  },
  {
   "cell_type": "code",
   "execution_count": 5,
   "id": "6f72936b",
   "metadata": {},
   "outputs": [
    {
     "name": "stdout",
     "output_type": "stream",
     "text": [
      "Hello world\n"
     ]
    }
   ],
   "source": [
    "#fucntion with argument and no return type\n",
    "\n",
    "def hello(a):      #a is parameter\n",
    "    print(a)\n",
    "     \n",
    "hello('Hello world')  #argument"
   ]
  },
  {
   "cell_type": "code",
   "execution_count": 6,
   "id": "bae6060f",
   "metadata": {},
   "outputs": [
    {
     "name": "stdout",
     "output_type": "stream",
     "text": [
      "Enter p = 190\n",
      "Enter time = 20.3\n",
      "Enter rate = 23.1\n",
      "890.9670000000001\n"
     ]
    }
   ],
   "source": [
    "def cal(p,t,r):\n",
    "    i=p*t*r/100              #local variable\n",
    "    print(i)\n",
    "    \n",
    "    \n",
    "p =  int(input('Enter p = '))         #global variable\n",
    "t = float(input('Enter time = '))     #global variable \n",
    "r = float(input('Enter rate = '))      #global variable\n",
    "\n",
    "cal(p,t,r)                #p,t,r is argument"
   ]
  },
  {
   "cell_type": "code",
   "execution_count": 10,
   "id": "32027f3a",
   "metadata": {},
   "outputs": [
    {
     "name": "stdout",
     "output_type": "stream",
     "text": [
      "Enter p = 1000\n",
      "Enter time = 23.3\n",
      "Enter rate = 24.2\n",
      "5638.6\n"
     ]
    }
   ],
   "source": [
    "\n",
    "def cal(l):\n",
    "    x,y,z = l\n",
    "    i=p*t*r/100              #local variable\n",
    "    print(i)\n",
    "    \n",
    "    \n",
    "p =  int(input('Enter p = '))         #global variable\n",
    "t = float(input('Enter time = '))     #global variable \n",
    "r = float(input('Enter rate = '))      #global variable\n",
    "\n",
    "l=[p,t,r]\n",
    "cal(l)                #l is argument"
   ]
  },
  {
   "cell_type": "code",
   "execution_count": 8,
   "id": "4eff6685",
   "metadata": {},
   "outputs": [
    {
     "data": {
      "text/plain": [
       "(1, 2, 3)"
      ]
     },
     "execution_count": 8,
     "metadata": {},
     "output_type": "execute_result"
    }
   ],
   "source": [
    "x = 1,2,3\n",
    "x"
   ]
  },
  {
   "cell_type": "code",
   "execution_count": 9,
   "id": "a5089fa2",
   "metadata": {},
   "outputs": [
    {
     "data": {
      "text/plain": [
       "1"
      ]
     },
     "execution_count": 9,
     "metadata": {},
     "output_type": "execute_result"
    }
   ],
   "source": [
    "a,b,c = x\n",
    "a"
   ]
  },
  {
   "cell_type": "code",
   "execution_count": 12,
   "id": "0af8e56a",
   "metadata": {},
   "outputs": [
    {
     "name": "stdout",
     "output_type": "stream",
     "text": [
      "Hello World\n"
     ]
    }
   ],
   "source": [
    "# return type\n",
    "def hello():\n",
    "    return 'Hello World'\n",
    "\n",
    "print(hello())"
   ]
  },
  {
   "cell_type": "code",
   "execution_count": 14,
   "id": "273c218a",
   "metadata": {},
   "outputs": [
    {
     "name": "stdout",
     "output_type": "stream",
     "text": [
      "Hello World I am Python \n"
     ]
    }
   ],
   "source": [
    "def hello():\n",
    "    return 'Hello World'\n",
    "\n",
    "x = hello()\n",
    "print(x +' I am Python ')"
   ]
  },
  {
   "cell_type": "code",
   "execution_count": 16,
   "id": "0a163535",
   "metadata": {},
   "outputs": [
    {
     "name": "stdout",
     "output_type": "stream",
     "text": [
      "Enter value of l = 23\n",
      "Enter value of b = 23\n",
      "Enter height = 21\n",
      "Area =  529\n",
      "Volume =  11109\n"
     ]
    }
   ],
   "source": [
    "# function without argument and return type\n",
    "def area():\n",
    "    l = int(input('Enter value of l = '))\n",
    "    b = int(input('Enter value of b = '))\n",
    "    a = l*b\n",
    "    return a\n",
    "ar = area()\n",
    "h = int(input('Enter height = '))\n",
    "v = ar * h\n",
    "print('Area = ',ar)\n",
    "print('Volume = ',v)\n"
   ]
  },
  {
   "cell_type": "code",
   "execution_count": 2,
   "id": "ce9a8499",
   "metadata": {},
   "outputs": [
    {
     "name": "stdout",
     "output_type": "stream",
     "text": [
      "Enter value of l = 2\n",
      "Enter value of b = 2\n",
      "Enter height = 3\n",
      "(4, 12)\n",
      "Area =  4\n",
      "Volume =  12\n"
     ]
    }
   ],
   "source": [
    "# function without argument and return type\n",
    "def area():\n",
    "    l = int(input('Enter value of l = '))\n",
    "    b = int(input('Enter value of b = '))\n",
    "    h = int(input('Enter height = '))\n",
    "    a = l*b\n",
    "    v = a * h\n",
    "    return a,v\n",
    "ar = area()\n",
    "print(ar)\n",
    "x,y = ar\n",
    "print('Area = ',x)\n",
    "print('Volume = ',y)\n"
   ]
  },
  {
   "cell_type": "code",
   "execution_count": 3,
   "id": "32cde82b",
   "metadata": {},
   "outputs": [
    {
     "name": "stdout",
     "output_type": "stream",
     "text": [
      "Enter value of l = 2\n",
      "Enter value of b = 2\n",
      "Enter height = 3\n",
      "(4, 12)\n",
      "Area =  4\n",
      "Volume =  12\n"
     ]
    }
   ],
   "source": [
    "# function with argument and return type\n",
    "def area(x,y,z):\n",
    "    a = l*b\n",
    "    v = a * h\n",
    "    return a,v\n",
    "\n",
    "l = int(input('Enter value of l = '))\n",
    "b = int(input('Enter value of b = '))\n",
    "h = int(input('Enter height = '))\n",
    "ar = area(l,b,h)\n",
    "\n",
    "\n",
    "print(ar)\n",
    "i,j = ar\n",
    "print('Area = ',i)\n",
    "print('Volume = ',j)\n"
   ]
  },
  {
   "cell_type": "code",
   "execution_count": 4,
   "id": "4c74bd41",
   "metadata": {},
   "outputs": [
    {
     "name": "stdout",
     "output_type": "stream",
     "text": [
      "(4, 12)\n",
      "Area =  4\n",
      "Volume =  12\n"
     ]
    }
   ],
   "source": [
    "# function with argument and return type\n",
    "def area(x,y,z):\n",
    "    a = l*b\n",
    "    v = a * h\n",
    "    return a,v\n",
    "\n",
    "ar = area(2,2,3)\n",
    "\n",
    "\n",
    "print(ar)\n",
    "i,j = ar\n",
    "print('Area = ',i)\n",
    "print('Volume = ',j)\n"
   ]
  },
  {
   "cell_type": "code",
   "execution_count": 5,
   "id": "ff791f73",
   "metadata": {},
   "outputs": [
    {
     "name": "stdout",
     "output_type": "stream",
     "text": [
      "C\n",
      "C++\n",
      "Java\n",
      ".Net\n",
      "Python\n"
     ]
    }
   ],
   "source": [
    "# default\n",
    "def language(lan = 'Python'):\n",
    "    print(lan)\n",
    "language('C')\n",
    "language('C++')\n",
    "language('Java')\n",
    "language('.Net')\n",
    "language()"
   ]
  },
  {
   "cell_type": "code",
   "execution_count": null,
   "id": "e233432b",
   "metadata": {},
   "outputs": [],
   "source": [
    "# #recurssive function\n",
    "# def hello():\n",
    "#     print('Hello World')\n",
    "#     hello()\n",
    "    \n",
    "# hello()"
   ]
  },
  {
   "cell_type": "code",
   "execution_count": null,
   "id": "6ff5c18c",
   "metadata": {},
   "outputs": [
    {
     "name": "stdout",
     "output_type": "stream",
     "text": [
      "Hello World\n"
     ]
    }
   ],
   "source": [
    "def hello():\n",
    "    print('Hello World')\n",
    "    x = input('Enter for more print')\n",
    "    if x=='':\n",
    "        hello()\n",
    "    \n",
    "hello()"
   ]
  },
  {
   "cell_type": "code",
   "execution_count": 1,
   "id": "f80b8d16",
   "metadata": {},
   "outputs": [
    {
     "name": "stdout",
     "output_type": "stream",
     "text": [
      "3.141592653589793\n"
     ]
    }
   ],
   "source": [
    "#Math Function\n",
    "import math as m\n",
    "print(m.pi)\n"
   ]
  },
  {
   "cell_type": "code",
   "execution_count": 2,
   "id": "c4429670",
   "metadata": {},
   "outputs": [
    {
     "name": "stdout",
     "output_type": "stream",
     "text": [
      "Enter value of radius = 2\n",
      "12.566370614359172\n"
     ]
    }
   ],
   "source": [
    "import math as m\n",
    "r=int(input('Enter value of radius = '))\n",
    "a=m.pi*m.pow(r,2)\n",
    "print(a)"
   ]
  },
  {
   "cell_type": "code",
   "execution_count": 4,
   "id": "a492f765",
   "metadata": {},
   "outputs": [
    {
     "name": "stdout",
     "output_type": "stream",
     "text": [
      "Enter value of mass300\n",
      "Enter acceleration 23\n",
      "Force =  4879.036790187179\n"
     ]
    }
   ],
   "source": [
    "# f= ma*sin(t)\n",
    "mass = float(input('Enter value of mass'))\n",
    "acc = float(input('Enter acceleration '))\n",
    "f= mass *acc*m.cos(m.pi/4)\n",
    "print('Force = ',f)"
   ]
  },
  {
   "cell_type": "code",
   "execution_count": null,
   "id": "a206a30c",
   "metadata": {},
   "outputs": [],
   "source": []
  }
 ],
 "metadata": {
  "kernelspec": {
   "display_name": "Python 3 (ipykernel)",
   "language": "python",
   "name": "python3"
  },
  "language_info": {
   "codemirror_mode": {
    "name": "ipython",
    "version": 3
   },
   "file_extension": ".py",
   "mimetype": "text/x-python",
   "name": "python",
   "nbconvert_exporter": "python",
   "pygments_lexer": "ipython3",
   "version": "3.9.13"
  }
 },
 "nbformat": 4,
 "nbformat_minor": 5
}

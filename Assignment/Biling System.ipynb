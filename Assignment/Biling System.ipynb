{
 "cells": [
  {
   "cell_type": "code",
   "execution_count": 1,
   "id": "453eefd5",
   "metadata": {
    "scrolled": true
   },
   "outputs": [
    {
     "name": "stdout",
     "output_type": "stream",
     "text": [
      "Enter the number of fruits you want to add = 2\n",
      "Enter the name of fruit = apple\n",
      "Enter the price of the fruit per kg = 100\n",
      "Enter number of kg of the fruit = 2\n",
      "Enter the name of fruit = Banana\n",
      "Enter the price of the fruit per kg = 200\n",
      "Enter number of kg of the fruit = 2\n",
      "[{'Name': 'apple', 'Price': 100, 'Quantity': 2}, {'Name': 'banana', 'Price': 200, 'Quantity': 2}]\n",
      "Total price =  600\n"
     ]
    }
   ],
   "source": [
    "a=[]\n",
    "n = int(input('Enter the number of fruits you want to add = '))\n",
    "total = 0\n",
    "for i in range(n):\n",
    "    Name = input('Enter the name of fruit = ').lower()\n",
    "    Price = int(input('Enter the price of the fruit per kg = '))\n",
    "    quantity = int(input('Enter number of kg of the fruit = '))\n",
    "    p = Price*quantity\n",
    "    total = total+p\n",
    "    a.append({'Name':Name,'Price':Price, 'Quantity':quantity})\n",
    "print(a)\n",
    "print('Total price = ',total)\n",
    "\n",
    "Ans =input('If you want to remove any fruit you added then type yes or no. ').lower()\n",
    "if Ans =='yes':\n",
    "    b = input('Enter the fruit name you want to remove = ').lower()\n",
    "    for i in range(len(a)):\n",
    "        if a[i]['Name'] == b:\n",
    "            total = total -( a[i]['Price']*a[i]['Quantity'])\n",
    "            del a[i]\n",
    "            print(a)\n",
    "            print('Total Price = ',total)\n",
    "            \n",
    "elif Ans == 'no':\n",
    "    print('Your total is',total)\n",
    "else:\n",
    "    print('Answer must be yes or no. TRY AGAIN!!')\n",
    "    \n",
    "\n",
    "    \n"
   ]
  },
  {
   "cell_type": "code",
   "execution_count": null,
   "id": "c2703b32",
   "metadata": {},
   "outputs": [],
   "source": []
  }
 ],
 "metadata": {
  "kernelspec": {
   "display_name": "Python 3 (ipykernel)",
   "language": "python",
   "name": "python3"
  },
  "language_info": {
   "codemirror_mode": {
    "name": "ipython",
    "version": 3
   },
   "file_extension": ".py",
   "mimetype": "text/x-python",
   "name": "python",
   "nbconvert_exporter": "python",
   "pygments_lexer": "ipython3",
   "version": "3.9.13"
  }
 },
 "nbformat": 4,
 "nbformat_minor": 5
}

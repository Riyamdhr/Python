{
 "cells": [
  {
   "cell_type": "code",
   "execution_count": 1,
   "id": "cee58027",
   "metadata": {},
   "outputs": [
    {
     "name": "stdout",
     "output_type": "stream",
     "text": [
      "Enter number of rows => 3\n",
      "Enter number of columns => 3\n",
      "Enter number 1\n",
      "Enter number 2\n",
      "Enter number 3\n",
      "Enter number 4\n",
      "Enter number 5\n",
      "Enter number 6\n",
      "Enter number 7\n",
      "Enter number 9\n",
      "Enter number 8\n",
      "1 2 3 \n",
      "4 5 6 \n",
      "7 9 8 \n"
     ]
    }
   ],
   "source": [
    "n_rows = int(input('Enter number of rows => '))\n",
    "n_cols = int(input('Enter number of columns => '))\n",
    "matrix = []\n",
    "for i in range(n_rows):\n",
    "    a=[]\n",
    "    for j in range(n_cols):\n",
    "        r=int(input('Enter number '))\n",
    "        a.append(r) \n",
    "    matrix.append(a)\n",
    "for i in range(n_rows):\n",
    "    for j in range(n_cols):\n",
    "        print(matrix[i][j],end=\" \")\n",
    "    print()"
   ]
  },
  {
   "cell_type": "code",
   "execution_count": null,
   "id": "9425d881",
   "metadata": {},
   "outputs": [],
   "source": []
  }
 ],
 "metadata": {
  "kernelspec": {
   "display_name": "Python 3 (ipykernel)",
   "language": "python",
   "name": "python3"
  },
  "language_info": {
   "codemirror_mode": {
    "name": "ipython",
    "version": 3
   },
   "file_extension": ".py",
   "mimetype": "text/x-python",
   "name": "python",
   "nbconvert_exporter": "python",
   "pygments_lexer": "ipython3",
   "version": "3.9.13"
  }
 },
 "nbformat": 4,
 "nbformat_minor": 5
}

{
 "cells": [
  {
   "cell_type": "code",
   "execution_count": 8,
   "id": "e479e6a1",
   "metadata": {},
   "outputs": [
    {
     "name": "stdout",
     "output_type": "stream",
     "text": [
      "Enter a number --> 45\n",
      "Composite Number\n"
     ]
    }
   ],
   "source": [
    "n = int(input('Enter a number --> '))\n",
    "\n",
    "for i in range(2,n):\n",
    "    if n % i==0:\n",
    "        print('Composite Number')\n",
    "        break\n",
    "else:\n",
    "    print('prime number')\n",
    "\n",
    "\n",
    "    "
   ]
  },
  {
   "cell_type": "code",
   "execution_count": 2,
   "id": "a951dde1",
   "metadata": {},
   "outputs": [
    {
     "name": "stdout",
     "output_type": "stream",
     "text": [
      "Enter a number --> 23\n",
      "prime number\n"
     ]
    }
   ],
   "source": [
    "n = int(input('Enter a number --> '))\n",
    "i=2\n",
    "while i<n:\n",
    "    if n%i == 0:\n",
    "        print('composite number')\n",
    "        break\n",
    "    i+=1\n",
    "        \n",
    "else:\n",
    "    print('prime number')"
   ]
  },
  {
   "cell_type": "markdown",
   "id": "30f81be9",
   "metadata": {},
   "source": [
    "#### "
   ]
  },
  {
   "cell_type": "code",
   "execution_count": null,
   "id": "b9867bda",
   "metadata": {},
   "outputs": [],
   "source": []
  }
 ],
 "metadata": {
  "kernelspec": {
   "display_name": "Python 3 (ipykernel)",
   "language": "python",
   "name": "python3"
  },
  "language_info": {
   "codemirror_mode": {
    "name": "ipython",
    "version": 3
   },
   "file_extension": ".py",
   "mimetype": "text/x-python",
   "name": "python",
   "nbconvert_exporter": "python",
   "pygments_lexer": "ipython3",
   "version": "3.9.13"
  }
 },
 "nbformat": 4,
 "nbformat_minor": 5
}
